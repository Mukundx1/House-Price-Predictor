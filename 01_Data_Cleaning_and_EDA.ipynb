{
 "cells": [
  {
   "cell_type": "code",
   "id": "initial_id",
   "metadata": {
    "collapsed": true,
    "ExecuteTime": {
     "end_time": "2025-09-14T14:27:58.934059Z",
     "start_time": "2025-09-14T14:27:58.926998Z"
    }
   },
   "source": [
    "import pandas as pd\n",
    "import numpy as np\n",
    "import matplotlib.pyplot as plt\n",
    "import seaborn as sns\n",
    "import re"
   ],
   "outputs": [],
   "execution_count": 73
  },
  {
   "metadata": {},
   "cell_type": "markdown",
   "source": "## Importing Dataset",
   "id": "832c18110c2f1528"
  },
  {
   "metadata": {},
   "cell_type": "code",
   "outputs": [],
   "execution_count": 40,
   "source": "df = pd.read_csv('Data/house_prices.csv')",
   "id": "27fb09bea244fff9"
  },
  {
   "metadata": {
    "ExecuteTime": {
     "end_time": "2025-09-14T12:20:45.852163Z",
     "start_time": "2025-09-14T12:20:45.820211Z"
    }
   },
   "cell_type": "code",
   "source": "df.head(5)",
   "id": "5d17fc8b9cc3a0a3",
   "outputs": [
    {
     "data": {
      "text/plain": [
       "   Index                                              Title  \\\n",
       "0      0  1 BHK Ready to Occupy Flat for sale in Srushti...   \n",
       "1      1  2 BHK Ready to Occupy Flat for sale in Dosti V...   \n",
       "2      2  2 BHK Ready to Occupy Flat for sale in Sunrise...   \n",
       "3      3        1 BHK Ready to Occupy Flat for sale Kasheli   \n",
       "4      4  2 BHK Ready to Occupy Flat for sale in TenX Ha...   \n",
       "\n",
       "                                         Description Amount(in rupees)  \\\n",
       "0  Bhiwandi, Thane has an attractive 1 BHK Flat f...           42 Lac    \n",
       "1  One can find this stunning 2 BHK flat for sale...           98 Lac    \n",
       "2  Up for immediate sale is a 2 BHK apartment in ...          1.40 Cr    \n",
       "3  This beautiful 1 BHK Flat is available for sal...           25 Lac    \n",
       "4  This lovely 2 BHK Flat in Pokhran Road, Thane ...          1.60 Cr    \n",
       "\n",
       "   Price (in rupees) location Carpet Area         Status         Floor  \\\n",
       "0             6000.0    thane    500 sqft  Ready to Move  10 out of 11   \n",
       "1            13799.0    thane    473 sqft  Ready to Move   3 out of 22   \n",
       "2            17500.0    thane    779 sqft  Ready to Move  10 out of 29   \n",
       "3                NaN    thane    530 sqft  Ready to Move    1 out of 3   \n",
       "4            18824.0    thane    635 sqft  Ready to Move  20 out of 42   \n",
       "\n",
       "  Transaction  ... facing             overlooking  \\\n",
       "0      Resale  ...    NaN                     NaN   \n",
       "1      Resale  ...   East             Garden/Park   \n",
       "2      Resale  ...   East             Garden/Park   \n",
       "3      Resale  ...    NaN                     NaN   \n",
       "4      Resale  ...   West  Garden/Park, Main Road   \n",
       "\n",
       "                               Society Bathroom Balcony Car Parking  \\\n",
       "0  Srushti Siddhi Mangal Murti Complex        1       2         NaN   \n",
       "1                          Dosti Vihar        2     NaN      1 Open   \n",
       "2                 Sunrise by Kalpataru        2     NaN   1 Covered   \n",
       "3                                  NaN        1       1         NaN   \n",
       "4          TenX Habitat Raymond Realty        2     NaN   1 Covered   \n",
       "\n",
       "              Ownership Super Area Dimensions  Plot Area  \n",
       "0                   NaN        NaN        NaN        NaN  \n",
       "1              Freehold        NaN        NaN        NaN  \n",
       "2              Freehold        NaN        NaN        NaN  \n",
       "3                   NaN        NaN        NaN        NaN  \n",
       "4  Co-operative Society        NaN        NaN        NaN  \n",
       "\n",
       "[5 rows x 21 columns]"
      ],
      "text/html": [
       "<div>\n",
       "<style scoped>\n",
       "    .dataframe tbody tr th:only-of-type {\n",
       "        vertical-align: middle;\n",
       "    }\n",
       "\n",
       "    .dataframe tbody tr th {\n",
       "        vertical-align: top;\n",
       "    }\n",
       "\n",
       "    .dataframe thead th {\n",
       "        text-align: right;\n",
       "    }\n",
       "</style>\n",
       "<table border=\"1\" class=\"dataframe\">\n",
       "  <thead>\n",
       "    <tr style=\"text-align: right;\">\n",
       "      <th></th>\n",
       "      <th>Index</th>\n",
       "      <th>Title</th>\n",
       "      <th>Description</th>\n",
       "      <th>Amount(in rupees)</th>\n",
       "      <th>Price (in rupees)</th>\n",
       "      <th>location</th>\n",
       "      <th>Carpet Area</th>\n",
       "      <th>Status</th>\n",
       "      <th>Floor</th>\n",
       "      <th>Transaction</th>\n",
       "      <th>...</th>\n",
       "      <th>facing</th>\n",
       "      <th>overlooking</th>\n",
       "      <th>Society</th>\n",
       "      <th>Bathroom</th>\n",
       "      <th>Balcony</th>\n",
       "      <th>Car Parking</th>\n",
       "      <th>Ownership</th>\n",
       "      <th>Super Area</th>\n",
       "      <th>Dimensions</th>\n",
       "      <th>Plot Area</th>\n",
       "    </tr>\n",
       "  </thead>\n",
       "  <tbody>\n",
       "    <tr>\n",
       "      <th>0</th>\n",
       "      <td>0</td>\n",
       "      <td>1 BHK Ready to Occupy Flat for sale in Srushti...</td>\n",
       "      <td>Bhiwandi, Thane has an attractive 1 BHK Flat f...</td>\n",
       "      <td>42 Lac</td>\n",
       "      <td>6000.0</td>\n",
       "      <td>thane</td>\n",
       "      <td>500 sqft</td>\n",
       "      <td>Ready to Move</td>\n",
       "      <td>10 out of 11</td>\n",
       "      <td>Resale</td>\n",
       "      <td>...</td>\n",
       "      <td>NaN</td>\n",
       "      <td>NaN</td>\n",
       "      <td>Srushti Siddhi Mangal Murti Complex</td>\n",
       "      <td>1</td>\n",
       "      <td>2</td>\n",
       "      <td>NaN</td>\n",
       "      <td>NaN</td>\n",
       "      <td>NaN</td>\n",
       "      <td>NaN</td>\n",
       "      <td>NaN</td>\n",
       "    </tr>\n",
       "    <tr>\n",
       "      <th>1</th>\n",
       "      <td>1</td>\n",
       "      <td>2 BHK Ready to Occupy Flat for sale in Dosti V...</td>\n",
       "      <td>One can find this stunning 2 BHK flat for sale...</td>\n",
       "      <td>98 Lac</td>\n",
       "      <td>13799.0</td>\n",
       "      <td>thane</td>\n",
       "      <td>473 sqft</td>\n",
       "      <td>Ready to Move</td>\n",
       "      <td>3 out of 22</td>\n",
       "      <td>Resale</td>\n",
       "      <td>...</td>\n",
       "      <td>East</td>\n",
       "      <td>Garden/Park</td>\n",
       "      <td>Dosti Vihar</td>\n",
       "      <td>2</td>\n",
       "      <td>NaN</td>\n",
       "      <td>1 Open</td>\n",
       "      <td>Freehold</td>\n",
       "      <td>NaN</td>\n",
       "      <td>NaN</td>\n",
       "      <td>NaN</td>\n",
       "    </tr>\n",
       "    <tr>\n",
       "      <th>2</th>\n",
       "      <td>2</td>\n",
       "      <td>2 BHK Ready to Occupy Flat for sale in Sunrise...</td>\n",
       "      <td>Up for immediate sale is a 2 BHK apartment in ...</td>\n",
       "      <td>1.40 Cr</td>\n",
       "      <td>17500.0</td>\n",
       "      <td>thane</td>\n",
       "      <td>779 sqft</td>\n",
       "      <td>Ready to Move</td>\n",
       "      <td>10 out of 29</td>\n",
       "      <td>Resale</td>\n",
       "      <td>...</td>\n",
       "      <td>East</td>\n",
       "      <td>Garden/Park</td>\n",
       "      <td>Sunrise by Kalpataru</td>\n",
       "      <td>2</td>\n",
       "      <td>NaN</td>\n",
       "      <td>1 Covered</td>\n",
       "      <td>Freehold</td>\n",
       "      <td>NaN</td>\n",
       "      <td>NaN</td>\n",
       "      <td>NaN</td>\n",
       "    </tr>\n",
       "    <tr>\n",
       "      <th>3</th>\n",
       "      <td>3</td>\n",
       "      <td>1 BHK Ready to Occupy Flat for sale Kasheli</td>\n",
       "      <td>This beautiful 1 BHK Flat is available for sal...</td>\n",
       "      <td>25 Lac</td>\n",
       "      <td>NaN</td>\n",
       "      <td>thane</td>\n",
       "      <td>530 sqft</td>\n",
       "      <td>Ready to Move</td>\n",
       "      <td>1 out of 3</td>\n",
       "      <td>Resale</td>\n",
       "      <td>...</td>\n",
       "      <td>NaN</td>\n",
       "      <td>NaN</td>\n",
       "      <td>NaN</td>\n",
       "      <td>1</td>\n",
       "      <td>1</td>\n",
       "      <td>NaN</td>\n",
       "      <td>NaN</td>\n",
       "      <td>NaN</td>\n",
       "      <td>NaN</td>\n",
       "      <td>NaN</td>\n",
       "    </tr>\n",
       "    <tr>\n",
       "      <th>4</th>\n",
       "      <td>4</td>\n",
       "      <td>2 BHK Ready to Occupy Flat for sale in TenX Ha...</td>\n",
       "      <td>This lovely 2 BHK Flat in Pokhran Road, Thane ...</td>\n",
       "      <td>1.60 Cr</td>\n",
       "      <td>18824.0</td>\n",
       "      <td>thane</td>\n",
       "      <td>635 sqft</td>\n",
       "      <td>Ready to Move</td>\n",
       "      <td>20 out of 42</td>\n",
       "      <td>Resale</td>\n",
       "      <td>...</td>\n",
       "      <td>West</td>\n",
       "      <td>Garden/Park, Main Road</td>\n",
       "      <td>TenX Habitat Raymond Realty</td>\n",
       "      <td>2</td>\n",
       "      <td>NaN</td>\n",
       "      <td>1 Covered</td>\n",
       "      <td>Co-operative Society</td>\n",
       "      <td>NaN</td>\n",
       "      <td>NaN</td>\n",
       "      <td>NaN</td>\n",
       "    </tr>\n",
       "  </tbody>\n",
       "</table>\n",
       "<p>5 rows × 21 columns</p>\n",
       "</div>"
      ]
     },
     "execution_count": 41,
     "metadata": {},
     "output_type": "execute_result"
    }
   ],
   "execution_count": 41
  },
  {
   "metadata": {},
   "cell_type": "markdown",
   "source": "## Removed the columns with high percentage of null values or with constant value and the index column",
   "id": "9d8e99b14ad06296"
  },
  {
   "metadata": {},
   "cell_type": "code",
   "outputs": [
    {
     "data": {
      "text/plain": [
       "                                               Title  \\\n",
       "0  1 BHK Ready to Occupy Flat for sale in Srushti...   \n",
       "1  2 BHK Ready to Occupy Flat for sale in Dosti V...   \n",
       "2  2 BHK Ready to Occupy Flat for sale in Sunrise...   \n",
       "3        1 BHK Ready to Occupy Flat for sale Kasheli   \n",
       "4  2 BHK Ready to Occupy Flat for sale in TenX Ha...   \n",
       "\n",
       "                                         Description Amount(in rupees)  \\\n",
       "0  Bhiwandi, Thane has an attractive 1 BHK Flat f...           42 Lac    \n",
       "1  One can find this stunning 2 BHK flat for sale...           98 Lac    \n",
       "2  Up for immediate sale is a 2 BHK apartment in ...          1.40 Cr    \n",
       "3  This beautiful 1 BHK Flat is available for sal...           25 Lac    \n",
       "4  This lovely 2 BHK Flat in Pokhran Road, Thane ...          1.60 Cr    \n",
       "\n",
       "   Price (in rupees) location Carpet Area         Floor Transaction  \\\n",
       "0             6000.0    thane    500 sqft  10 out of 11      Resale   \n",
       "1            13799.0    thane    473 sqft   3 out of 22      Resale   \n",
       "2            17500.0    thane    779 sqft  10 out of 29      Resale   \n",
       "3                NaN    thane    530 sqft    1 out of 3      Resale   \n",
       "4            18824.0    thane    635 sqft  20 out of 42      Resale   \n",
       "\n",
       "       Furnishing facing Bathroom Balcony             Ownership  \n",
       "0     Unfurnished    NaN        1       2                   NaN  \n",
       "1  Semi-Furnished   East        2     NaN              Freehold  \n",
       "2     Unfurnished   East        2     NaN              Freehold  \n",
       "3     Unfurnished    NaN        1       1                   NaN  \n",
       "4     Unfurnished   West        2     NaN  Co-operative Society  "
      ],
      "text/html": [
       "<div>\n",
       "<style scoped>\n",
       "    .dataframe tbody tr th:only-of-type {\n",
       "        vertical-align: middle;\n",
       "    }\n",
       "\n",
       "    .dataframe tbody tr th {\n",
       "        vertical-align: top;\n",
       "    }\n",
       "\n",
       "    .dataframe thead th {\n",
       "        text-align: right;\n",
       "    }\n",
       "</style>\n",
       "<table border=\"1\" class=\"dataframe\">\n",
       "  <thead>\n",
       "    <tr style=\"text-align: right;\">\n",
       "      <th></th>\n",
       "      <th>Title</th>\n",
       "      <th>Description</th>\n",
       "      <th>Amount(in rupees)</th>\n",
       "      <th>Price (in rupees)</th>\n",
       "      <th>location</th>\n",
       "      <th>Carpet Area</th>\n",
       "      <th>Floor</th>\n",
       "      <th>Transaction</th>\n",
       "      <th>Furnishing</th>\n",
       "      <th>facing</th>\n",
       "      <th>Bathroom</th>\n",
       "      <th>Balcony</th>\n",
       "      <th>Ownership</th>\n",
       "    </tr>\n",
       "  </thead>\n",
       "  <tbody>\n",
       "    <tr>\n",
       "      <th>0</th>\n",
       "      <td>1 BHK Ready to Occupy Flat for sale in Srushti...</td>\n",
       "      <td>Bhiwandi, Thane has an attractive 1 BHK Flat f...</td>\n",
       "      <td>42 Lac</td>\n",
       "      <td>6000.0</td>\n",
       "      <td>thane</td>\n",
       "      <td>500 sqft</td>\n",
       "      <td>10 out of 11</td>\n",
       "      <td>Resale</td>\n",
       "      <td>Unfurnished</td>\n",
       "      <td>NaN</td>\n",
       "      <td>1</td>\n",
       "      <td>2</td>\n",
       "      <td>NaN</td>\n",
       "    </tr>\n",
       "    <tr>\n",
       "      <th>1</th>\n",
       "      <td>2 BHK Ready to Occupy Flat for sale in Dosti V...</td>\n",
       "      <td>One can find this stunning 2 BHK flat for sale...</td>\n",
       "      <td>98 Lac</td>\n",
       "      <td>13799.0</td>\n",
       "      <td>thane</td>\n",
       "      <td>473 sqft</td>\n",
       "      <td>3 out of 22</td>\n",
       "      <td>Resale</td>\n",
       "      <td>Semi-Furnished</td>\n",
       "      <td>East</td>\n",
       "      <td>2</td>\n",
       "      <td>NaN</td>\n",
       "      <td>Freehold</td>\n",
       "    </tr>\n",
       "    <tr>\n",
       "      <th>2</th>\n",
       "      <td>2 BHK Ready to Occupy Flat for sale in Sunrise...</td>\n",
       "      <td>Up for immediate sale is a 2 BHK apartment in ...</td>\n",
       "      <td>1.40 Cr</td>\n",
       "      <td>17500.0</td>\n",
       "      <td>thane</td>\n",
       "      <td>779 sqft</td>\n",
       "      <td>10 out of 29</td>\n",
       "      <td>Resale</td>\n",
       "      <td>Unfurnished</td>\n",
       "      <td>East</td>\n",
       "      <td>2</td>\n",
       "      <td>NaN</td>\n",
       "      <td>Freehold</td>\n",
       "    </tr>\n",
       "    <tr>\n",
       "      <th>3</th>\n",
       "      <td>1 BHK Ready to Occupy Flat for sale Kasheli</td>\n",
       "      <td>This beautiful 1 BHK Flat is available for sal...</td>\n",
       "      <td>25 Lac</td>\n",
       "      <td>NaN</td>\n",
       "      <td>thane</td>\n",
       "      <td>530 sqft</td>\n",
       "      <td>1 out of 3</td>\n",
       "      <td>Resale</td>\n",
       "      <td>Unfurnished</td>\n",
       "      <td>NaN</td>\n",
       "      <td>1</td>\n",
       "      <td>1</td>\n",
       "      <td>NaN</td>\n",
       "    </tr>\n",
       "    <tr>\n",
       "      <th>4</th>\n",
       "      <td>2 BHK Ready to Occupy Flat for sale in TenX Ha...</td>\n",
       "      <td>This lovely 2 BHK Flat in Pokhran Road, Thane ...</td>\n",
       "      <td>1.60 Cr</td>\n",
       "      <td>18824.0</td>\n",
       "      <td>thane</td>\n",
       "      <td>635 sqft</td>\n",
       "      <td>20 out of 42</td>\n",
       "      <td>Resale</td>\n",
       "      <td>Unfurnished</td>\n",
       "      <td>West</td>\n",
       "      <td>2</td>\n",
       "      <td>NaN</td>\n",
       "      <td>Co-operative Society</td>\n",
       "    </tr>\n",
       "  </tbody>\n",
       "</table>\n",
       "</div>"
      ]
     },
     "execution_count": 42,
     "metadata": {},
     "output_type": "execute_result"
    }
   ],
   "execution_count": 42,
   "source": [
    "df_clean = df.drop(['Society','Car Parking','Status','Super Area','Dimensions','Plot Area','Index','Society','overlooking'], axis=1)\n",
    "df_clean.head(5)"
   ],
   "id": "1164597b3716d8b9"
  },
  {
   "metadata": {},
   "cell_type": "markdown",
   "source": "## Handling null values in Balcony column",
   "id": "807dd3d4f7b88326"
  },
  {
   "metadata": {},
   "cell_type": "code",
   "outputs": [
    {
     "data": {
      "text/plain": [
       "48935"
      ]
     },
     "execution_count": 44,
     "metadata": {},
     "output_type": "execute_result"
    }
   ],
   "execution_count": 44,
   "source": [
    "df_clean['Balcony'].isnull().sum()\n",
    "df_clean['Balcony'] = df_clean['Balcony'].fillna(df_clean['Balcony'].mode()[0])\n",
    "df_clean['Balcony'].isnull().sum()"
   ],
   "id": "a9f340990d10a3b6"
  },
  {
   "metadata": {},
   "cell_type": "markdown",
   "source": "## Extracting BHK info from Title column",
   "id": "8e01e2930d56b852"
  },
  {
   "metadata": {},
   "cell_type": "code",
   "outputs": [],
   "execution_count": 53,
   "source": "df_clean['BHK'] = df_clean['Title'].str.extract(r'(\\d+)').astype(float).astype('Int64')",
   "id": "d1269af955438918"
  },
  {
   "metadata": {
    "ExecuteTime": {
     "end_time": "2025-09-14T12:42:43.470130Z",
     "start_time": "2025-09-14T12:42:43.454967Z"
    }
   },
   "cell_type": "code",
   "source": "df_clean['BHK'].isnull().sum()",
   "id": "5bbb611572dec46b",
   "outputs": [
    {
     "data": {
      "text/plain": [
       "854"
      ]
     },
     "execution_count": 55,
     "metadata": {},
     "output_type": "execute_result"
    }
   ],
   "execution_count": 55
  },
  {
   "metadata": {},
   "cell_type": "markdown",
   "source": "## Handling null values in BHK column",
   "id": "424f6aaee96b14a8"
  },
  {
   "metadata": {},
   "cell_type": "code",
   "outputs": [],
   "execution_count": 56,
   "source": [
    "df_clean['BHK'] = df_clean['BHK'].fillna(df_clean['BHK'].mode()[0])\n",
    "df_clean['BHK'].isnull().sum()"
   ],
   "id": "ffe0a927286f269a"
  },
  {
   "metadata": {
    "ExecuteTime": {
     "end_time": "2025-09-14T12:50:25.784615Z",
     "start_time": "2025-09-14T12:50:25.744845Z"
    }
   },
   "cell_type": "code",
   "source": "df_clean['Floor'].describe()",
   "id": "1437127a61877061",
   "outputs": [
    {
     "data": {
      "text/plain": [
       "count         180454\n",
       "unique           947\n",
       "top       2 out of 4\n",
       "freq           12433\n",
       "Name: Floor, dtype: object"
      ]
     },
     "execution_count": 60,
     "metadata": {},
     "output_type": "execute_result"
    }
   ],
   "execution_count": 60
  },
  {
   "metadata": {
    "ExecuteTime": {
     "end_time": "2025-09-14T12:53:39.632608Z",
     "start_time": "2025-09-14T12:53:39.297844Z"
    }
   },
   "cell_type": "code",
   "source": "df_clean['Floor'] = df_clean['Floor'].str.extract(r'(\\d+)').astype(float).astype('Int64')",
   "id": "e55dd5a7e610504",
   "outputs": [],
   "execution_count": 61
  },
  {
   "metadata": {
    "ExecuteTime": {
     "end_time": "2025-09-14T12:58:20.594782Z",
     "start_time": "2025-09-14T12:58:20.579012Z"
    }
   },
   "cell_type": "code",
   "source": "df_clean['Floor'][95148]",
   "id": "4f0103ff718d1d9b",
   "outputs": [
    {
     "data": {
      "text/plain": [
       "<NA>"
      ]
     },
     "execution_count": 71,
     "metadata": {},
     "output_type": "execute_result"
    }
   ],
   "execution_count": 71
  },
  {
   "metadata": {},
   "cell_type": "markdown",
   "source": "## Converted Floor from object to float",
   "id": "d2753b83561a3677"
  },
  {
   "metadata": {},
   "cell_type": "code",
   "execution_count": null,
   "source": [
    "def extract_floor(value):\n",
    "    if pd.isna(value):\n",
    "        return None\n",
    "    value = value.strip()\n",
    "    match = re.match(r'^(\\d+)', value)\n",
    "    if match:\n",
    "        return int(match.group(1))\n",
    "\n",
    "    if value.lower().startswith(\"ground\"):\n",
    "        return 0\n",
    "    elif value.lower().startswith(\"upper\"):\n",
    "        return -1\n",
    "    elif value.lower().startswith(\"lower\"):\n",
    "        return -2\n",
    "    return None\n",
    "\n",
    "df_clean['Floor'] = df['Floor'].apply(extract_floor)\n",
    "df_clean['Floor'].describe()"
   ],
   "id": "4d7c21a0084da88b",
   "outputs": []
  },
  {
   "metadata": {
    "ExecuteTime": {
     "end_time": "2025-09-14T15:34:23.896571Z",
     "start_time": "2025-09-14T15:34:23.880840Z"
    }
   },
   "cell_type": "code",
   "source": "df_clean['Floor'].isnull().sum()",
   "id": "a93ceae6f92b2c11",
   "outputs": [
    {
     "data": {
      "text/plain": [
       "6949"
      ]
     },
     "execution_count": 103,
     "metadata": {},
     "output_type": "execute_result"
    }
   ],
   "execution_count": 103
  },
  {
   "metadata": {},
   "cell_type": "code",
   "source": "df_clean['Floor'] = df_clean['Floor'].fillna(df_clean['Floor'].mode()[0])",
   "id": "70427fe52e415191",
   "execution_count": null,
   "outputs": []
  },
  {
   "metadata": {
    "ExecuteTime": {
     "end_time": "2025-09-14T15:35:15.448831Z",
     "start_time": "2025-09-14T15:35:15.432878Z"
    }
   },
   "cell_type": "code",
   "source": "df_clean['Floor'].isnull().sum()",
   "id": "8e2ed6010828c8ca",
   "outputs": [
    {
     "data": {
      "text/plain": [
       "0"
      ]
     },
     "execution_count": 105,
     "metadata": {},
     "output_type": "execute_result"
    }
   ],
   "execution_count": 105
  },
  {
   "metadata": {
    "ExecuteTime": {
     "end_time": "2025-09-14T15:38:53.023755Z",
     "start_time": "2025-09-14T15:38:53.007655Z"
    }
   },
   "cell_type": "code",
   "source": "df_clean['Floor'] = df_clean['Floor'].astype(int).astype(\"Int64\")",
   "id": "4ca383db94d5a723",
   "outputs": [],
   "execution_count": 110
  },
  {
   "metadata": {
    "ExecuteTime": {
     "end_time": "2025-09-14T15:39:19.761538Z",
     "start_time": "2025-09-14T15:39:19.747413Z"
    }
   },
   "cell_type": "code",
   "source": [
    "print(df_clean['Floor'].dtype)\n",
    "print(df_clean['Floor'].head(10))\n",
    "print(type(df_clean['Floor'].iloc[0]))\n"
   ],
   "id": "a177346f65f7bff9",
   "outputs": [
    {
     "name": "stdout",
     "output_type": "stream",
     "text": [
      "Int64\n",
      "0    10\n",
      "1     3\n",
      "2    10\n",
      "3     1\n",
      "4    20\n",
      "5     2\n",
      "6     4\n",
      "7     0\n",
      "8     0\n",
      "9     3\n",
      "Name: Floor, dtype: Int64\n",
      "<class 'numpy.int64'>\n"
     ]
    }
   ],
   "execution_count": 112
  },
  {
   "metadata": {
    "ExecuteTime": {
     "end_time": "2025-09-14T15:38:55.681305Z",
     "start_time": "2025-09-14T15:38:55.665550Z"
    }
   },
   "cell_type": "code",
   "source": "df_clean['Floor'].describe()",
   "id": "4f6d3bb4e4e4c884",
   "outputs": [
    {
     "data": {
      "text/plain": [
       "count    177837.0\n",
       "mean     4.399338\n",
       "std      4.610984\n",
       "min          -2.0\n",
       "25%           2.0\n",
       "50%           3.0\n",
       "75%           5.0\n",
       "max          75.0\n",
       "Name: Floor, dtype: Float64"
      ]
     },
     "execution_count": 111,
     "metadata": {},
     "output_type": "execute_result"
    }
   ],
   "execution_count": 111
  },
  {
   "metadata": {},
   "cell_type": "markdown",
   "source": "## Correcting the max floor value as it seems to be a typo",
   "id": "fb3f024fc6c29c7e"
  },
  {
   "metadata": {},
   "cell_type": "code",
   "source": [
    "df_clean.loc[df_clean['Floor'] == 200,'Floor'] = 20\n",
    "df_clean['Floor'].describe()"
   ],
   "id": "8acb9e22dc48ea51",
   "execution_count": null,
   "outputs": []
  },
  {
   "metadata": {},
   "cell_type": "markdown",
   "source": "## Converting Target Column (Amount (to rupees)) and also correcting the skewness of the column",
   "id": "ef54e0a53f284c3c"
  },
  {
   "metadata": {
    "ExecuteTime": {
     "end_time": "2025-09-14T14:40:42.461762Z",
     "start_time": "2025-09-14T14:40:42.445005Z"
    }
   },
   "cell_type": "code",
   "outputs": [
    {
     "data": {
      "text/plain": [
       "0"
      ]
     },
     "execution_count": 82,
     "metadata": {},
     "output_type": "execute_result"
    }
   ],
   "execution_count": 82,
   "source": "df_clean['Amount(in rupees)'].isnull().sum()",
   "id": "2f814d178b884514"
  },
  {
   "metadata": {
    "ExecuteTime": {
     "end_time": "2025-09-14T14:51:28.980061Z",
     "start_time": "2025-09-14T14:51:28.821212Z"
    }
   },
   "cell_type": "code",
   "source": [
    "def conv_to_inr(s):\n",
    "    s = s.strip()\n",
    "    if s.endswith(' Lac'):\n",
    "        s = s.replace(' Lac', '')\n",
    "        return int(float(s) * 1e5)\n",
    "    elif s.endswith(\" Cr\"):\n",
    "        s = s.replace(\" Cr\", \"\")\n",
    "        return int(float(s) * 1e7)\n",
    "    else:\n",
    "        try:\n",
    "            return int(float(s))\n",
    "        except ValueError:\n",
    "            return None\n",
    "\n",
    "df_clean['Amount(in rupees)'] = df_clean['Amount(in rupees)'].apply(conv_to_inr)"
   ],
   "id": "afdb0b8b65ffeb62",
   "outputs": [],
   "execution_count": 83
  },
  {
   "metadata": {
    "ExecuteTime": {
     "end_time": "2025-09-14T14:51:43.673658Z",
     "start_time": "2025-09-14T14:51:43.658043Z"
    }
   },
   "cell_type": "code",
   "source": "df_clean['Amount(in rupees)'].describe()",
   "id": "e7cdc51135ba8152",
   "outputs": [
    {
     "data": {
      "text/plain": [
       "count    1.778470e+05\n",
       "mean     1.198134e+07\n",
       "std      3.943827e+07\n",
       "min      1.000000e+05\n",
       "25%      4.840000e+06\n",
       "50%      7.800000e+06\n",
       "75%      1.450000e+07\n",
       "max      1.400300e+10\n",
       "Name: Amount(in rupees), dtype: float64"
      ]
     },
     "execution_count": 84,
     "metadata": {},
     "output_type": "execute_result"
    }
   ],
   "execution_count": 84
  },
  {
   "metadata": {
    "ExecuteTime": {
     "end_time": "2025-09-14T14:55:39.062619Z",
     "start_time": "2025-09-14T14:55:39.046776Z"
    }
   },
   "cell_type": "code",
   "source": "print(df_clean['Amount(in rupees)'].skew())",
   "id": "ee57a4c03d9da81b",
   "outputs": [
    {
     "name": "stdout",
     "output_type": "stream",
     "text": [
      "270.25594003861767\n"
     ]
    }
   ],
   "execution_count": 85
  },
  {
   "metadata": {
    "ExecuteTime": {
     "end_time": "2025-09-14T15:01:47.095684Z",
     "start_time": "2025-09-14T15:01:46.660995Z"
    }
   },
   "cell_type": "code",
   "source": [
    "sns.catplot(data = df_clean,x='Amount(in rupees)',kind='box')\n",
    "plt.show()"
   ],
   "id": "e6ccf9d750f81c17",
   "outputs": [
    {
     "data": {
      "text/plain": [
       "<Figure size 511.111x500 with 1 Axes>"
      ],
      "image/png": "[encoded data removed]"
     },
     "metadata": {},
     "output_type": "display_data"
    }
   ],
   "execution_count": 87
  },
  {
   "metadata": {
    "ExecuteTime": {
     "end_time": "2025-09-14T15:07:25.467235Z",
     "start_time": "2025-09-14T15:07:25.435848Z"
    }
   },
   "cell_type": "code",
   "source": "df_clean = df_clean[df_clean['Amount(in rupees)'] < (50 * 1e7)]",
   "id": "5914f515836e349c",
   "outputs": [],
   "execution_count": 88
  },
  {
   "metadata": {
    "ExecuteTime": {
     "end_time": "2025-09-14T15:07:32.030802Z",
     "start_time": "2025-09-14T15:07:32.014979Z"
    }
   },
   "cell_type": "code",
   "source": "print(df_clean['Amount(in rupees)'].skew())",
   "id": "6ef44a78a7281933",
   "outputs": [
    {
     "name": "stdout",
     "output_type": "stream",
     "text": [
      "6.348444996118282\n"
     ]
    }
   ],
   "execution_count": 89
  },
  {
   "metadata": {
    "ExecuteTime": {
     "end_time": "2025-09-14T15:12:48.677881Z",
     "start_time": "2025-09-14T15:12:48.662110Z"
    }
   },
   "cell_type": "code",
   "source": "df_clean.loc[:,'Amount(in rupees)'] = np.log1p(df_clean['Amount(in rupees)'])",
   "id": "bb9415c1858c448e",
   "outputs": [],
   "execution_count": 91
  },
  {
   "metadata": {
    "ExecuteTime": {
     "end_time": "2025-09-14T15:13:09.827577Z",
     "start_time": "2025-09-14T15:13:09.812290Z"
    }
   },
   "cell_type": "code",
   "source": "print(df_clean['Amount(in rupees)'].skew())",
   "id": "72ca015f5e0a1096",
   "outputs": [
    {
     "name": "stdout",
     "output_type": "stream",
     "text": [
      "0.27497285743393796\n"
     ]
    }
   ],
   "execution_count": 93
  },
  {
   "metadata": {},
   "cell_type": "markdown",
   "source": "## Dropping the Title and Description Column",
   "id": "c1af655df283a166"
  },
  {
   "metadata": {
    "ExecuteTime": {
     "end_time": "2025-09-14T15:26:16.199543Z",
     "start_time": "2025-09-14T15:26:16.167860Z"
    }
   },
   "cell_type": "code",
   "source": "df_clean = df_clean.drop(['Title','Description'],axis=1)",
   "id": "e3d2f33bb979a565",
   "outputs": [],
   "execution_count": 94
  },
  {
   "metadata": {
    "ExecuteTime": {
     "end_time": "2025-09-14T15:26:22.346594Z",
     "start_time": "2025-09-14T15:26:22.330658Z"
    }
   },
   "cell_type": "code",
   "source": "df_clean.head()",
   "id": "3ea5897ca5507733",
   "outputs": [
    {
     "data": {
      "text/plain": [
       "   Amount(in rupees)  Price (in rupees) location Carpet Area  Floor  \\\n",
       "0          15.250595             6000.0    thane    500 sqft   10.0   \n",
       "1          16.097893            13799.0    thane    473 sqft    3.0   \n",
       "2          16.454568            17500.0    thane    779 sqft   10.0   \n",
       "3          14.731802                NaN    thane    530 sqft    1.0   \n",
       "4          16.588099            18824.0    thane    635 sqft   20.0   \n",
       "\n",
       "  Transaction      Furnishing facing Bathroom Balcony             Ownership  \\\n",
       "0      Resale     Unfurnished    NaN        1       2                   NaN   \n",
       "1      Resale  Semi-Furnished   East        2       2              Freehold   \n",
       "2      Resale     Unfurnished   East        2       2              Freehold   \n",
       "3      Resale     Unfurnished    NaN        1       1                   NaN   \n",
       "4      Resale     Unfurnished   West        2       2  Co-operative Society   \n",
       "\n",
       "   BHK  \n",
       "0    1  \n",
       "1    2  \n",
       "2    2  \n",
       "3    1  \n",
       "4    2  "
      ],
      "text/html": [
       "<div>\n",
       "<style scoped>\n",
       "    .dataframe tbody tr th:only-of-type {\n",
       "        vertical-align: middle;\n",
       "    }\n",
       "\n",
       "    .dataframe tbody tr th {\n",
       "        vertical-align: top;\n",
       "    }\n",
       "\n",
       "    .dataframe thead th {\n",
       "        text-align: right;\n",
       "    }\n",
       "</style>\n",
       "<table border=\"1\" class=\"dataframe\">\n",
       "  <thead>\n",
       "    <tr style=\"text-align: right;\">\n",
       "      <th></th>\n",
       "      <th>Amount(in rupees)</th>\n",
       "      <th>Price (in rupees)</th>\n",
       "      <th>location</th>\n",
       "      <th>Carpet Area</th>\n",
       "      <th>Floor</th>\n",
       "      <th>Transaction</th>\n",
       "      <th>Furnishing</th>\n",
       "      <th>facing</th>\n",
       "      <th>Bathroom</th>\n",
       "      <th>Balcony</th>\n",
       "      <th>Ownership</th>\n",
       "      <th>BHK</th>\n",
       "    </tr>\n",
       "  </thead>\n",
       "  <tbody>\n",
       "    <tr>\n",
       "      <th>0</th>\n",
       "      <td>15.250595</td>\n",
       "      <td>6000.0</td>\n",
       "      <td>thane</td>\n",
       "      <td>500 sqft</td>\n",
       "      <td>10.0</td>\n",
       "      <td>Resale</td>\n",
       "      <td>Unfurnished</td>\n",
       "      <td>NaN</td>\n",
       "      <td>1</td>\n",
       "      <td>2</td>\n",
       "      <td>NaN</td>\n",
       "      <td>1</td>\n",
       "    </tr>\n",
       "    <tr>\n",
       "      <th>1</th>\n",
       "      <td>16.097893</td>\n",
       "      <td>13799.0</td>\n",
       "      <td>thane</td>\n",
       "      <td>473 sqft</td>\n",
       "      <td>3.0</td>\n",
       "      <td>Resale</td>\n",
       "      <td>Semi-Furnished</td>\n",
       "      <td>East</td>\n",
       "      <td>2</td>\n",
       "      <td>2</td>\n",
       "      <td>Freehold</td>\n",
       "      <td>2</td>\n",
       "    </tr>\n",
       "    <tr>\n",
       "      <th>2</th>\n",
       "      <td>16.454568</td>\n",
       "      <td>17500.0</td>\n",
       "      <td>thane</td>\n",
       "      <td>779 sqft</td>\n",
       "      <td>10.0</td>\n",
       "      <td>Resale</td>\n",
       "      <td>Unfurnished</td>\n",
       "      <td>East</td>\n",
       "      <td>2</td>\n",
       "      <td>2</td>\n",
       "      <td>Freehold</td>\n",
       "      <td>2</td>\n",
       "    </tr>\n",
       "    <tr>\n",
       "      <th>3</th>\n",
       "      <td>14.731802</td>\n",
       "      <td>NaN</td>\n",
       "      <td>thane</td>\n",
       "      <td>530 sqft</td>\n",
       "      <td>1.0</td>\n",
       "      <td>Resale</td>\n",
       "      <td>Unfurnished</td>\n",
       "      <td>NaN</td>\n",
       "      <td>1</td>\n",
       "      <td>1</td>\n",
       "      <td>NaN</td>\n",
       "      <td>1</td>\n",
       "    </tr>\n",
       "    <tr>\n",
       "      <th>4</th>\n",
       "      <td>16.588099</td>\n",
       "      <td>18824.0</td>\n",
       "      <td>thane</td>\n",
       "      <td>635 sqft</td>\n",
       "      <td>20.0</td>\n",
       "      <td>Resale</td>\n",
       "      <td>Unfurnished</td>\n",
       "      <td>West</td>\n",
       "      <td>2</td>\n",
       "      <td>2</td>\n",
       "      <td>Co-operative Society</td>\n",
       "      <td>2</td>\n",
       "    </tr>\n",
       "  </tbody>\n",
       "</table>\n",
       "</div>"
      ]
     },
     "execution_count": 95,
     "metadata": {},
     "output_type": "execute_result"
    }
   ],
   "execution_count": 95
  },
  {
   "metadata": {
    "ExecuteTime": {
     "end_time": "2025-09-14T15:28:25.095957Z",
     "start_time": "2025-09-14T15:28:25.080129Z"
    }
   },
   "cell_type": "code",
   "source": "print(df_clean['Price (in rupees)'].skew())",
   "id": "710acc1534e5d88f",
   "outputs": [
    {
     "name": "stdout",
     "output_type": "stream",
     "text": [
      "241.61422725797289\n"
     ]
    }
   ],
   "execution_count": 97
  },
  {
   "metadata": {},
   "cell_type": "markdown",
   "source": "## Creating an Area column with all values in sqft and also handling Null Values in it",
   "id": "4bd541ece47f1d0b"
  },
  {
   "metadata": {
    "ExecuteTime": {
     "end_time": "2025-09-14T15:42:40.749151Z",
     "start_time": "2025-09-14T15:42:40.733381Z"
    }
   },
   "cell_type": "code",
   "source": "df_clean['Carpet Area'].isnull().sum()",
   "id": "6508bbe28e185174",
   "outputs": [
    {
     "data": {
      "text/plain": [
       "76322"
      ]
     },
     "execution_count": 113,
     "metadata": {},
     "output_type": "execute_result"
    }
   ],
   "execution_count": 113
  },
  {
   "metadata": {
    "ExecuteTime": {
     "end_time": "2025-09-14T15:49:58.797861Z",
     "start_time": "2025-09-14T15:49:58.604400Z"
    }
   },
   "cell_type": "code",
   "source": [
    "conversion_factors = {\n",
    "    \"sqft\": 1,\n",
    "    \"sqm\": 10.7639,\n",
    "    \"sqyrd\": 9\n",
    "}\n",
    "\n",
    "def to_sqft(value):\n",
    "    if pd.isna(value):\n",
    "        return None\n",
    "    value = value.strip().lower()\n",
    "    for unit, factor in conversion_factors.items():\n",
    "        if unit in value:\n",
    "            num = float(value.replace(unit, \"\").strip())\n",
    "            return round(num * factor, 2)\n",
    "    return None\n",
    "\n",
    "df_clean['Area'] = df_clean['Carpet Area'].apply(to_sqft)"
   ],
   "id": "b75114253a27f59b",
   "outputs": [],
   "execution_count": 114
  },
  {
   "metadata": {
    "ExecuteTime": {
     "end_time": "2025-09-14T15:50:53.590929Z",
     "start_time": "2025-09-14T15:50:53.574941Z"
    }
   },
   "cell_type": "code",
   "source": "df_clean['Area'].describe()",
   "id": "424f011bedd2bbb9",
   "outputs": [
    {
     "data": {
      "text/plain": [
       "count    101507.000000\n",
       "mean       1290.306774\n",
       "std        3140.037738\n",
       "min           1.000000\n",
       "25%         850.000000\n",
       "50%        1100.000000\n",
       "75%        1550.000000\n",
       "max      709222.000000\n",
       "Name: Area, dtype: float64"
      ]
     },
     "execution_count": 116,
     "metadata": {},
     "output_type": "execute_result"
    }
   ],
   "execution_count": 116
  },
  {
   "metadata": {
    "ExecuteTime": {
     "end_time": "2025-09-14T15:51:06.160002Z",
     "start_time": "2025-09-14T15:51:06.144166Z"
    }
   },
   "cell_type": "code",
   "source": "df_clean['Area'].isnull().sum()",
   "id": "c095fb01e50cf56f",
   "outputs": [
    {
     "data": {
      "text/plain": [
       "76330"
      ]
     },
     "execution_count": 117,
     "metadata": {},
     "output_type": "execute_result"
    }
   ],
   "execution_count": 117
  },
  {
   "metadata": {
    "ExecuteTime": {
     "end_time": "2025-09-14T15:52:47.502435Z",
     "start_time": "2025-09-14T15:52:47.455151Z"
    }
   },
   "cell_type": "code",
   "source": "df_clean['Area'] = df_clean.groupby('BHK')['Area'].transform(lambda x: x.fillna(x.median())) # This ran but some of the null values are still left",
   "id": "2171fc1d0d6ba00c",
   "outputs": [
    {
     "name": "stderr",
     "output_type": "stream",
     "text": [
      "D:\\Environments\\tf_gpu\\lib\\site-packages\\numpy\\lib\\nanfunctions.py:1215: RuntimeWarning: Mean of empty slice\n",
      "  return np.nanmean(a, axis, out=out, keepdims=keepdims)\n",
      "D:\\Environments\\tf_gpu\\lib\\site-packages\\numpy\\lib\\nanfunctions.py:1215: RuntimeWarning: Mean of empty slice\n",
      "  return np.nanmean(a, axis, out=out, keepdims=keepdims)\n",
      "D:\\Environments\\tf_gpu\\lib\\site-packages\\numpy\\lib\\nanfunctions.py:1215: RuntimeWarning: Mean of empty slice\n",
      "  return np.nanmean(a, axis, out=out, keepdims=keepdims)\n",
      "D:\\Environments\\tf_gpu\\lib\\site-packages\\numpy\\lib\\nanfunctions.py:1215: RuntimeWarning: Mean of empty slice\n",
      "  return np.nanmean(a, axis, out=out, keepdims=keepdims)\n",
      "D:\\Environments\\tf_gpu\\lib\\site-packages\\numpy\\lib\\nanfunctions.py:1215: RuntimeWarning: Mean of empty slice\n",
      "  return np.nanmean(a, axis, out=out, keepdims=keepdims)\n"
     ]
    }
   ],
   "execution_count": 119
  },
  {
   "metadata": {
    "ExecuteTime": {
     "end_time": "2025-09-14T15:54:28.579416Z",
     "start_time": "2025-09-14T15:54:28.563407Z"
    }
   },
   "cell_type": "code",
   "source": [
    "# Dealt with the remaining null values\n",
    "overall_median_area = df_clean['Area'].median()\n",
    "df_clean['Area'] = df_clean['Area'].fillna(overall_median_area)"
   ],
   "id": "85aefadfddce16bc",
   "outputs": [],
   "execution_count": 120
  },
  {
   "metadata": {
    "ExecuteTime": {
     "end_time": "2025-09-14T15:55:08.527356Z",
     "start_time": "2025-09-14T15:55:08.511249Z"
    }
   },
   "cell_type": "code",
   "source": "df_clean['Area'].isnull().sum()",
   "id": "9ba074ffce1bd4d",
   "outputs": [
    {
     "data": {
      "text/plain": [
       "0"
      ]
     },
     "execution_count": 121,
     "metadata": {},
     "output_type": "execute_result"
    }
   ],
   "execution_count": 121
  },
  {
   "metadata": {
    "ExecuteTime": {
     "end_time": "2025-09-14T15:55:27.019658Z",
     "start_time": "2025-09-14T15:55:27.004542Z"
    }
   },
   "cell_type": "code",
   "source": "df_clean.head()",
   "id": "f965fdef452a66ca",
   "outputs": [
    {
     "data": {
      "text/plain": [
       "   Amount(in rupees)  Price (in rupees) location Carpet Area  Floor  \\\n",
       "0          15.250595             6000.0    thane    500 sqft     10   \n",
       "1          16.097893            13799.0    thane    473 sqft      3   \n",
       "2          16.454568            17500.0    thane    779 sqft     10   \n",
       "3          14.731802                NaN    thane    530 sqft      1   \n",
       "4          16.588099            18824.0    thane    635 sqft     20   \n",
       "\n",
       "  Transaction      Furnishing facing Bathroom Balcony             Ownership  \\\n",
       "0      Resale     Unfurnished    NaN        1       2                   NaN   \n",
       "1      Resale  Semi-Furnished   East        2       2              Freehold   \n",
       "2      Resale     Unfurnished   East        2       2              Freehold   \n",
       "3      Resale     Unfurnished    NaN        1       1                   NaN   \n",
       "4      Resale     Unfurnished   West        2       2  Co-operative Society   \n",
       "\n",
       "   BHK   Area  \n",
       "0    1  500.0  \n",
       "1    2  473.0  \n",
       "2    2  779.0  \n",
       "3    1  530.0  \n",
       "4    2  635.0  "
      ],
      "text/html": [
       "<div>\n",
       "<style scoped>\n",
       "    .dataframe tbody tr th:only-of-type {\n",
       "        vertical-align: middle;\n",
       "    }\n",
       "\n",
       "    .dataframe tbody tr th {\n",
       "        vertical-align: top;\n",
       "    }\n",
       "\n",
       "    .dataframe thead th {\n",
       "        text-align: right;\n",
       "    }\n",
       "</style>\n",
       "<table border=\"1\" class=\"dataframe\">\n",
       "  <thead>\n",
       "    <tr style=\"text-align: right;\">\n",
       "      <th></th>\n",
       "      <th>Amount(in rupees)</th>\n",
       "      <th>Price (in rupees)</th>\n",
       "      <th>location</th>\n",
       "      <th>Carpet Area</th>\n",
       "      <th>Floor</th>\n",
       "      <th>Transaction</th>\n",
       "      <th>Furnishing</th>\n",
       "      <th>facing</th>\n",
       "      <th>Bathroom</th>\n",
       "      <th>Balcony</th>\n",
       "      <th>Ownership</th>\n",
       "      <th>BHK</th>\n",
       "      <th>Area</th>\n",
       "    </tr>\n",
       "  </thead>\n",
       "  <tbody>\n",
       "    <tr>\n",
       "      <th>0</th>\n",
       "      <td>15.250595</td>\n",
       "      <td>6000.0</td>\n",
       "      <td>thane</td>\n",
       "      <td>500 sqft</td>\n",
       "      <td>10</td>\n",
       "      <td>Resale</td>\n",
       "      <td>Unfurnished</td>\n",
       "      <td>NaN</td>\n",
       "      <td>1</td>\n",
       "      <td>2</td>\n",
       "      <td>NaN</td>\n",
       "      <td>1</td>\n",
       "      <td>500.0</td>\n",
       "    </tr>\n",
       "    <tr>\n",
       "      <th>1</th>\n",
       "      <td>16.097893</td>\n",
       "      <td>13799.0</td>\n",
       "      <td>thane</td>\n",
       "      <td>473 sqft</td>\n",
       "      <td>3</td>\n",
       "      <td>Resale</td>\n",
       "      <td>Semi-Furnished</td>\n",
       "      <td>East</td>\n",
       "      <td>2</td>\n",
       "      <td>2</td>\n",
       "      <td>Freehold</td>\n",
       "      <td>2</td>\n",
       "      <td>473.0</td>\n",
       "    </tr>\n",
       "    <tr>\n",
       "      <th>2</th>\n",
       "      <td>16.454568</td>\n",
       "      <td>17500.0</td>\n",
       "      <td>thane</td>\n",
       "      <td>779 sqft</td>\n",
       "      <td>10</td>\n",
       "      <td>Resale</td>\n",
       "      <td>Unfurnished</td>\n",
       "      <td>East</td>\n",
       "      <td>2</td>\n",
       "      <td>2</td>\n",
       "      <td>Freehold</td>\n",
       "      <td>2</td>\n",
       "      <td>779.0</td>\n",
       "    </tr>\n",
       "    <tr>\n",
       "      <th>3</th>\n",
       "      <td>14.731802</td>\n",
       "      <td>NaN</td>\n",
       "      <td>thane</td>\n",
       "      <td>530 sqft</td>\n",
       "      <td>1</td>\n",
       "      <td>Resale</td>\n",
       "      <td>Unfurnished</td>\n",
       "      <td>NaN</td>\n",
       "      <td>1</td>\n",
       "      <td>1</td>\n",
       "      <td>NaN</td>\n",
       "      <td>1</td>\n",
       "      <td>530.0</td>\n",
       "    </tr>\n",
       "    <tr>\n",
       "      <th>4</th>\n",
       "      <td>16.588099</td>\n",
       "      <td>18824.0</td>\n",
       "      <td>thane</td>\n",
       "      <td>635 sqft</td>\n",
       "      <td>20</td>\n",
       "      <td>Resale</td>\n",
       "      <td>Unfurnished</td>\n",
       "      <td>West</td>\n",
       "      <td>2</td>\n",
       "      <td>2</td>\n",
       "      <td>Co-operative Society</td>\n",
       "      <td>2</td>\n",
       "      <td>635.0</td>\n",
       "    </tr>\n",
       "  </tbody>\n",
       "</table>\n",
       "</div>"
      ]
     },
     "execution_count": 122,
     "metadata": {},
     "output_type": "execute_result"
    }
   ],
   "execution_count": 122
  },
  {
   "metadata": {
    "ExecuteTime": {
     "end_time": "2025-09-14T16:01:20.893622Z",
     "start_time": "2025-09-14T16:01:20.877654Z"
    }
   },
   "cell_type": "code",
   "source": "df_clean = df_clean.drop('Carpet Area', axis=1) # Dropping carpet area as we extracted the required info in the Area column",
   "id": "b073bba3be762f4",
   "outputs": [],
   "execution_count": 123
  },
  {
   "metadata": {},
   "cell_type": "markdown",
   "source": "## Handling Null values in Bathroom column and other problems",
   "id": "9d8384ec1827b94e"
  },
  {
   "metadata": {},
   "cell_type": "code",
   "outputs": [
    {
     "data": {
      "text/plain": [
       "760"
      ]
     },
     "execution_count": 124,
     "metadata": {},
     "output_type": "execute_result"
    }
   ],
   "execution_count": 124,
   "source": "df_clean['Bathroom'].isnull().sum()",
   "id": "ad429c9888fd4517"
  },
  {
   "metadata": {
    "ExecuteTime": {
     "end_time": "2025-09-14T16:03:01.471758Z",
     "start_time": "2025-09-14T16:03:01.445775Z"
    }
   },
   "cell_type": "code",
   "source": "df_clean['Bathroom'].describe()",
   "id": "c72970490d9d1915",
   "outputs": [
    {
     "data": {
      "text/plain": [
       "count     177077\n",
       "unique        11\n",
       "top            2\n",
       "freq       88996\n",
       "Name: Bathroom, dtype: object"
      ]
     },
     "execution_count": 125,
     "metadata": {},
     "output_type": "execute_result"
    }
   ],
   "execution_count": 125
  },
  {
   "metadata": {},
   "cell_type": "code",
   "source": [
    "def clean_bathroom(val):\n",
    "    if pd.isna(val):\n",
    "        return None\n",
    "    val = str(val).strip()\n",
    "    if val.startswith(\">\"):\n",
    "        return 11\n",
    "    try:\n",
    "        return int(val)\n",
    "    except ValueError:\n",
    "        return None\n",
    "\n",
    "df_clean['Bathroom'] = df_clean['Bathroom'].apply(clean_bathroom)"
   ],
   "id": "8f53084d0006cfca",
   "execution_count": null,
   "outputs": []
  },
  {
   "metadata": {
    "ExecuteTime": {
     "end_time": "2025-09-14T16:55:39.190016Z",
     "start_time": "2025-09-14T16:55:38.819644Z"
    }
   },
   "cell_type": "code",
   "source": [
    "sns.catplot(data = df_clean,x='Bathroom',kind='box')\n",
    "plt.show()"
   ],
   "id": "dedc82477a11f33e",
   "outputs": [
    {
     "data": {
      "text/plain": [
       "<Figure size 511.111x500 with 1 Axes>"
      ],
      "image/png": "[encoded data removed]"
     },
     "metadata": {},
     "output_type": "display_data"
    }
   ],
   "execution_count": 153
  },
  {
   "metadata": {
    "ExecuteTime": {
     "end_time": "2025-09-14T16:07:58.983110Z",
     "start_time": "2025-09-14T16:07:58.951527Z"
    }
   },
   "cell_type": "code",
   "source": "df_clean['Bathroom'].describe()",
   "id": "e39de2b1674de18c",
   "outputs": [
    {
     "data": {
      "text/plain": [
       "count    177077.000000\n",
       "mean          2.449381\n",
       "std           0.858831\n",
       "min           1.000000\n",
       "25%           2.000000\n",
       "50%           2.000000\n",
       "75%           3.000000\n",
       "max          11.000000\n",
       "Name: Bathroom, dtype: float64"
      ]
     },
     "execution_count": 127,
     "metadata": {},
     "output_type": "execute_result"
    }
   ],
   "execution_count": 127
  },
  {
   "metadata": {
    "ExecuteTime": {
     "end_time": "2025-09-14T16:09:57.467498Z",
     "start_time": "2025-09-14T16:09:57.452153Z"
    }
   },
   "cell_type": "code",
   "source": [
    "df_clean['Bathroom'] = df_clean['Bathroom'].fillna(df_clean['Bathroom'].mode()[0])\n",
    "df_clean['Bathroom'].isnull().sum()"
   ],
   "id": "1738a0276335032a",
   "outputs": [
    {
     "data": {
      "text/plain": [
       "0"
      ]
     },
     "execution_count": 129,
     "metadata": {},
     "output_type": "execute_result"
    }
   ],
   "execution_count": 129
  },
  {
   "metadata": {
    "ExecuteTime": {
     "end_time": "2025-09-14T16:10:13.019023Z",
     "start_time": "2025-09-14T16:10:13.002888Z"
    }
   },
   "cell_type": "code",
   "source": "df_clean.head(5)",
   "id": "50202cea45f6a969",
   "outputs": [
    {
     "data": {
      "text/plain": [
       "   Amount(in rupees)  Price (in rupees) location  Floor Transaction  \\\n",
       "0          15.250595             6000.0    thane     10      Resale   \n",
       "1          16.097893            13799.0    thane      3      Resale   \n",
       "2          16.454568            17500.0    thane     10      Resale   \n",
       "3          14.731802                NaN    thane      1      Resale   \n",
       "4          16.588099            18824.0    thane     20      Resale   \n",
       "\n",
       "       Furnishing facing  Bathroom Balcony             Ownership  BHK   Area  \n",
       "0     Unfurnished    NaN       1.0       2                   NaN    1  500.0  \n",
       "1  Semi-Furnished   East       2.0       2              Freehold    2  473.0  \n",
       "2     Unfurnished   East       2.0       2              Freehold    2  779.0  \n",
       "3     Unfurnished    NaN       1.0       1                   NaN    1  530.0  \n",
       "4     Unfurnished   West       2.0       2  Co-operative Society    2  635.0  "
      ],
      "text/html": [
       "<div>\n",
       "<style scoped>\n",
       "    .dataframe tbody tr th:only-of-type {\n",
       "        vertical-align: middle;\n",
       "    }\n",
       "\n",
       "    .dataframe tbody tr th {\n",
       "        vertical-align: top;\n",
       "    }\n",
       "\n",
       "    .dataframe thead th {\n",
       "        text-align: right;\n",
       "    }\n",
       "</style>\n",
       "<table border=\"1\" class=\"dataframe\">\n",
       "  <thead>\n",
       "    <tr style=\"text-align: right;\">\n",
       "      <th></th>\n",
       "      <th>Amount(in rupees)</th>\n",
       "      <th>Price (in rupees)</th>\n",
       "      <th>location</th>\n",
       "      <th>Floor</th>\n",
       "      <th>Transaction</th>\n",
       "      <th>Furnishing</th>\n",
       "      <th>facing</th>\n",
       "      <th>Bathroom</th>\n",
       "      <th>Balcony</th>\n",
       "      <th>Ownership</th>\n",
       "      <th>BHK</th>\n",
       "      <th>Area</th>\n",
       "    </tr>\n",
       "  </thead>\n",
       "  <tbody>\n",
       "    <tr>\n",
       "      <th>0</th>\n",
       "      <td>15.250595</td>\n",
       "      <td>6000.0</td>\n",
       "      <td>thane</td>\n",
       "      <td>10</td>\n",
       "      <td>Resale</td>\n",
       "      <td>Unfurnished</td>\n",
       "      <td>NaN</td>\n",
       "      <td>1.0</td>\n",
       "      <td>2</td>\n",
       "      <td>NaN</td>\n",
       "      <td>1</td>\n",
       "      <td>500.0</td>\n",
       "    </tr>\n",
       "    <tr>\n",
       "      <th>1</th>\n",
       "      <td>16.097893</td>\n",
       "      <td>13799.0</td>\n",
       "      <td>thane</td>\n",
       "      <td>3</td>\n",
       "      <td>Resale</td>\n",
       "      <td>Semi-Furnished</td>\n",
       "      <td>East</td>\n",
       "      <td>2.0</td>\n",
       "      <td>2</td>\n",
       "      <td>Freehold</td>\n",
       "      <td>2</td>\n",
       "      <td>473.0</td>\n",
       "    </tr>\n",
       "    <tr>\n",
       "      <th>2</th>\n",
       "      <td>16.454568</td>\n",
       "      <td>17500.0</td>\n",
       "      <td>thane</td>\n",
       "      <td>10</td>\n",
       "      <td>Resale</td>\n",
       "      <td>Unfurnished</td>\n",
       "      <td>East</td>\n",
       "      <td>2.0</td>\n",
       "      <td>2</td>\n",
       "      <td>Freehold</td>\n",
       "      <td>2</td>\n",
       "      <td>779.0</td>\n",
       "    </tr>\n",
       "    <tr>\n",
       "      <th>3</th>\n",
       "      <td>14.731802</td>\n",
       "      <td>NaN</td>\n",
       "      <td>thane</td>\n",
       "      <td>1</td>\n",
       "      <td>Resale</td>\n",
       "      <td>Unfurnished</td>\n",
       "      <td>NaN</td>\n",
       "      <td>1.0</td>\n",
       "      <td>1</td>\n",
       "      <td>NaN</td>\n",
       "      <td>1</td>\n",
       "      <td>530.0</td>\n",
       "    </tr>\n",
       "    <tr>\n",
       "      <th>4</th>\n",
       "      <td>16.588099</td>\n",
       "      <td>18824.0</td>\n",
       "      <td>thane</td>\n",
       "      <td>20</td>\n",
       "      <td>Resale</td>\n",
       "      <td>Unfurnished</td>\n",
       "      <td>West</td>\n",
       "      <td>2.0</td>\n",
       "      <td>2</td>\n",
       "      <td>Co-operative Society</td>\n",
       "      <td>2</td>\n",
       "      <td>635.0</td>\n",
       "    </tr>\n",
       "  </tbody>\n",
       "</table>\n",
       "</div>"
      ]
     },
     "execution_count": 130,
     "metadata": {},
     "output_type": "execute_result"
    }
   ],
   "execution_count": 130
  },
  {
   "metadata": {
    "ExecuteTime": {
     "end_time": "2025-09-14T16:10:59.584198Z",
     "start_time": "2025-09-14T16:10:59.568641Z"
    }
   },
   "cell_type": "code",
   "source": "df_clean = df_clean.drop('Price (in rupees)', axis=1)",
   "id": "148f74e9e631c5bc",
   "outputs": [],
   "execution_count": 131
  },
  {
   "metadata": {
    "ExecuteTime": {
     "end_time": "2025-09-14T16:11:04.469115Z",
     "start_time": "2025-09-14T16:11:04.454308Z"
    }
   },
   "cell_type": "code",
   "source": "df_clean.head(5)",
   "id": "6bf1a96692519074",
   "outputs": [
    {
     "data": {
      "text/plain": [
       "   Amount(in rupees) location  Floor Transaction      Furnishing facing  \\\n",
       "0          15.250595    thane     10      Resale     Unfurnished    NaN   \n",
       "1          16.097893    thane      3      Resale  Semi-Furnished   East   \n",
       "2          16.454568    thane     10      Resale     Unfurnished   East   \n",
       "3          14.731802    thane      1      Resale     Unfurnished    NaN   \n",
       "4          16.588099    thane     20      Resale     Unfurnished   West   \n",
       "\n",
       "   Bathroom Balcony             Ownership  BHK   Area  \n",
       "0       1.0       2                   NaN    1  500.0  \n",
       "1       2.0       2              Freehold    2  473.0  \n",
       "2       2.0       2              Freehold    2  779.0  \n",
       "3       1.0       1                   NaN    1  530.0  \n",
       "4       2.0       2  Co-operative Society    2  635.0  "
      ],
      "text/html": [
       "<div>\n",
       "<style scoped>\n",
       "    .dataframe tbody tr th:only-of-type {\n",
       "        vertical-align: middle;\n",
       "    }\n",
       "\n",
       "    .dataframe tbody tr th {\n",
       "        vertical-align: top;\n",
       "    }\n",
       "\n",
       "    .dataframe thead th {\n",
       "        text-align: right;\n",
       "    }\n",
       "</style>\n",
       "<table border=\"1\" class=\"dataframe\">\n",
       "  <thead>\n",
       "    <tr style=\"text-align: right;\">\n",
       "      <th></th>\n",
       "      <th>Amount(in rupees)</th>\n",
       "      <th>location</th>\n",
       "      <th>Floor</th>\n",
       "      <th>Transaction</th>\n",
       "      <th>Furnishing</th>\n",
       "      <th>facing</th>\n",
       "      <th>Bathroom</th>\n",
       "      <th>Balcony</th>\n",
       "      <th>Ownership</th>\n",
       "      <th>BHK</th>\n",
       "      <th>Area</th>\n",
       "    </tr>\n",
       "  </thead>\n",
       "  <tbody>\n",
       "    <tr>\n",
       "      <th>0</th>\n",
       "      <td>15.250595</td>\n",
       "      <td>thane</td>\n",
       "      <td>10</td>\n",
       "      <td>Resale</td>\n",
       "      <td>Unfurnished</td>\n",
       "      <td>NaN</td>\n",
       "      <td>1.0</td>\n",
       "      <td>2</td>\n",
       "      <td>NaN</td>\n",
       "      <td>1</td>\n",
       "      <td>500.0</td>\n",
       "    </tr>\n",
       "    <tr>\n",
       "      <th>1</th>\n",
       "      <td>16.097893</td>\n",
       "      <td>thane</td>\n",
       "      <td>3</td>\n",
       "      <td>Resale</td>\n",
       "      <td>Semi-Furnished</td>\n",
       "      <td>East</td>\n",
       "      <td>2.0</td>\n",
       "      <td>2</td>\n",
       "      <td>Freehold</td>\n",
       "      <td>2</td>\n",
       "      <td>473.0</td>\n",
       "    </tr>\n",
       "    <tr>\n",
       "      <th>2</th>\n",
       "      <td>16.454568</td>\n",
       "      <td>thane</td>\n",
       "      <td>10</td>\n",
       "      <td>Resale</td>\n",
       "      <td>Unfurnished</td>\n",
       "      <td>East</td>\n",
       "      <td>2.0</td>\n",
       "      <td>2</td>\n",
       "      <td>Freehold</td>\n",
       "      <td>2</td>\n",
       "      <td>779.0</td>\n",
       "    </tr>\n",
       "    <tr>\n",
       "      <th>3</th>\n",
       "      <td>14.731802</td>\n",
       "      <td>thane</td>\n",
       "      <td>1</td>\n",
       "      <td>Resale</td>\n",
       "      <td>Unfurnished</td>\n",
       "      <td>NaN</td>\n",
       "      <td>1.0</td>\n",
       "      <td>1</td>\n",
       "      <td>NaN</td>\n",
       "      <td>1</td>\n",
       "      <td>530.0</td>\n",
       "    </tr>\n",
       "    <tr>\n",
       "      <th>4</th>\n",
       "      <td>16.588099</td>\n",
       "      <td>thane</td>\n",
       "      <td>20</td>\n",
       "      <td>Resale</td>\n",
       "      <td>Unfurnished</td>\n",
       "      <td>West</td>\n",
       "      <td>2.0</td>\n",
       "      <td>2</td>\n",
       "      <td>Co-operative Society</td>\n",
       "      <td>2</td>\n",
       "      <td>635.0</td>\n",
       "    </tr>\n",
       "  </tbody>\n",
       "</table>\n",
       "</div>"
      ]
     },
     "execution_count": 132,
     "metadata": {},
     "output_type": "execute_result"
    }
   ],
   "execution_count": 132
  },
  {
   "metadata": {},
   "cell_type": "markdown",
   "source": "## Handling Null Values in Transaction column",
   "id": "c83f315a4f77ea3b"
  },
  {
   "metadata": {},
   "cell_type": "code",
   "outputs": [
    {
     "data": {
      "text/plain": [
       "10478           Resale\n",
       "120390    New Property\n",
       "111653          Resale\n",
       "71729     New Property\n",
       "19398           Resale\n",
       "Name: Transaction, dtype: object"
      ]
     },
     "execution_count": 134,
     "metadata": {},
     "output_type": "execute_result"
    }
   ],
   "execution_count": 134,
   "source": "df_clean['Transaction'].sample(5)",
   "id": "9bdf37798e128c"
  },
  {
   "metadata": {
    "ExecuteTime": {
     "end_time": "2025-09-14T16:22:15.806989Z",
     "start_time": "2025-09-14T16:22:15.778792Z"
    }
   },
   "cell_type": "code",
   "source": [
    "df_clean['Transaction'] = df_clean['Transaction'].fillna(df_clean['Transaction'].mode()[0])\n",
    "df_clean['Transaction'].isnull().sum()"
   ],
   "id": "f312a8c0e20f2eaf",
   "outputs": [
    {
     "data": {
      "text/plain": [
       "0"
      ]
     },
     "execution_count": 135,
     "metadata": {},
     "output_type": "execute_result"
    }
   ],
   "execution_count": 135
  },
  {
   "metadata": {},
   "cell_type": "markdown",
   "source": "## Handling Null Values in Facing column",
   "id": "1dbd7cd5804bfcea"
  },
  {
   "metadata": {
    "ExecuteTime": {
     "end_time": "2025-09-14T16:25:21.674194Z",
     "start_time": "2025-09-14T16:25:21.658275Z"
    }
   },
   "cell_type": "code",
   "source": "df_clean['facing'].isnull().sum()",
   "id": "357bd6fdf54e49df",
   "outputs": [
    {
     "data": {
      "text/plain": [
       "65734"
      ]
     },
     "execution_count": 136,
     "metadata": {},
     "output_type": "execute_result"
    }
   ],
   "execution_count": 136
  },
  {
   "metadata": {
    "ExecuteTime": {
     "end_time": "2025-09-14T16:25:43.008456Z",
     "start_time": "2025-09-14T16:25:42.963685Z"
    }
   },
   "cell_type": "code",
   "source": [
    "df_clean['facing'] = df_clean['facing'].fillna(df_clean['facing'].mode()[0])\n",
    "df_clean['facing'].isnull().sum()"
   ],
   "id": "513d07bce09738ea",
   "outputs": [
    {
     "data": {
      "text/plain": [
       "0"
      ]
     },
     "execution_count": 137,
     "metadata": {},
     "output_type": "execute_result"
    }
   ],
   "execution_count": 137
  },
  {
   "metadata": {},
   "cell_type": "markdown",
   "source": "## Handling Null Values in Furnishing column",
   "id": "ce55043ea6b6ad63"
  },
  {
   "metadata": {
    "ExecuteTime": {
     "end_time": "2025-09-14T16:26:27.297957Z",
     "start_time": "2025-09-14T16:26:27.282209Z"
    }
   },
   "cell_type": "code",
   "source": "df_clean['Furnishing'].isnull().sum()",
   "id": "ffac9a03236cd36",
   "outputs": [
    {
     "data": {
      "text/plain": [
       "2067"
      ]
     },
     "execution_count": 138,
     "metadata": {},
     "output_type": "execute_result"
    }
   ],
   "execution_count": 138
  },
  {
   "metadata": {
    "ExecuteTime": {
     "end_time": "2025-09-14T16:26:49.170383Z",
     "start_time": "2025-09-14T16:26:49.126844Z"
    }
   },
   "cell_type": "code",
   "source": [
    "df_clean['Furnishing'] = df_clean['Furnishing'].fillna(df_clean['Furnishing'].mode()[0])\n",
    "df_clean['Furnishing'].isnull().sum()"
   ],
   "id": "db887dc3ef794ea",
   "outputs": [
    {
     "data": {
      "text/plain": [
       "0"
      ]
     },
     "execution_count": 139,
     "metadata": {},
     "output_type": "execute_result"
    }
   ],
   "execution_count": 139
  },
  {
   "metadata": {},
   "cell_type": "markdown",
   "source": "## Handling odd values in Balcony Column",
   "id": "47c197816a2918f"
  },
  {
   "metadata": {
    "ExecuteTime": {
     "end_time": "2025-09-14T16:31:22.548549Z",
     "start_time": "2025-09-14T16:31:22.532615Z"
    }
   },
   "cell_type": "code",
   "source": "df_clean['Balcony'].isnull().sum()",
   "id": "a9eabc5158e6b1dd",
   "outputs": [
    {
     "data": {
      "text/plain": [
       "0"
      ]
     },
     "execution_count": 146,
     "metadata": {},
     "output_type": "execute_result"
    }
   ],
   "execution_count": 146
  },
  {
   "metadata": {
    "ExecuteTime": {
     "end_time": "2025-09-14T16:30:52.130795Z",
     "start_time": "2025-09-14T16:30:51.979981Z"
    }
   },
   "cell_type": "code",
   "source": [
    "def clean_balcony(val):\n",
    "    if pd.isna(val):\n",
    "        return None\n",
    "    val = str(val).strip()\n",
    "    if val.startswith(\">\"):\n",
    "        return 11\n",
    "    try:\n",
    "        return int(val)\n",
    "    except ValueError:\n",
    "        return None\n",
    "\n",
    "df_clean['Balcony'] = df_clean['Balcony'].apply(clean_balcony)"
   ],
   "id": "1dc0268a2871a198",
   "outputs": [],
   "execution_count": 144
  },
  {
   "metadata": {
    "ExecuteTime": {
     "end_time": "2025-09-14T16:31:04.125200Z",
     "start_time": "2025-09-14T16:31:04.109461Z"
    }
   },
   "cell_type": "code",
   "source": "df_clean['Balcony'].describe()",
   "id": "48e1fb4a4aee64c8",
   "outputs": [
    {
     "data": {
      "text/plain": [
       "count    177837.000000\n",
       "mean          2.009616\n",
       "std           0.819872\n",
       "min           1.000000\n",
       "25%           1.000000\n",
       "50%           2.000000\n",
       "75%           2.000000\n",
       "max          11.000000\n",
       "Name: Balcony, dtype: float64"
      ]
     },
     "execution_count": 145,
     "metadata": {},
     "output_type": "execute_result"
    }
   ],
   "execution_count": 145
  },
  {
   "metadata": {},
   "cell_type": "markdown",
   "source": "## Handling Null Values in Ownership column",
   "id": "f0427af38084d16d"
  },
  {
   "metadata": {
    "ExecuteTime": {
     "end_time": "2025-09-14T16:33:00.409463Z",
     "start_time": "2025-09-14T16:33:00.393760Z"
    }
   },
   "cell_type": "code",
   "outputs": [
    {
     "data": {
      "text/plain": [
       "61923"
      ]
     },
     "execution_count": 147,
     "metadata": {},
     "output_type": "execute_result"
    }
   ],
   "execution_count": 147,
   "source": "df_clean['Ownership'].isnull().sum()",
   "id": "7a6d4d73cd43604a"
  },
  {
   "metadata": {
    "ExecuteTime": {
     "end_time": "2025-09-14T16:35:10.030604Z",
     "start_time": "2025-09-14T16:35:10.005400Z"
    }
   },
   "cell_type": "code",
   "source": [
    "df_clean['Ownership'] = df_clean['Ownership'].fillna(df_clean['Ownership'].mode()[0])\n",
    "df_clean['Ownership'].isnull().sum()"
   ],
   "id": "134d8a9d20413617",
   "outputs": [
    {
     "data": {
      "text/plain": [
       "0"
      ]
     },
     "execution_count": 148,
     "metadata": {},
     "output_type": "execute_result"
    }
   ],
   "execution_count": 148
  },
  {
   "metadata": {
    "ExecuteTime": {
     "end_time": "2025-09-14T16:41:17.012978Z",
     "start_time": "2025-09-14T16:41:16.968778Z"
    }
   },
   "cell_type": "code",
   "source": "df_clean['location'].describe()",
   "id": "2e9cf387e1310542",
   "outputs": [
    {
     "data": {
      "text/plain": [
       "count        177837\n",
       "unique           81\n",
       "top       new-delhi\n",
       "freq          24945\n",
       "Name: location, dtype: object"
      ]
     },
     "execution_count": 149,
     "metadata": {},
     "output_type": "execute_result"
    }
   ],
   "execution_count": 149
  },
  {
   "metadata": {},
   "cell_type": "markdown",
   "source": "## Handling some outliers in Bathroom and Balcony columns which increased the skewness",
   "id": "e701e82da9818021"
  },
  {
   "metadata": {},
   "cell_type": "code",
   "outputs": [],
   "execution_count": null,
   "source": [
    "bathroom_percentile = df_clean['Bathroom'].quantile(0.999)\n",
    "df_clean['Bathroom'] = np.where(df_clean['Bathroom'] > bathroom_percentile, bathroom_percentile, df_clean['Bathroom'])\n",
    "\n",
    "# You can apply the same logic to the 'balcony' column\n",
    "balcony_percentile = df_clean['Balcony'].quantile(0.999)\n",
    "df_clean['Balcony'] = np.where(df_clean['Balcony'] > balcony_percentile, balcony_percentile, df_clean['Balcony'])"
   ],
   "id": "3d118a7abb3179b8"
  },
  {
   "metadata": {
    "ExecuteTime": {
     "end_time": "2025-09-14T17:05:33.242678Z",
     "start_time": "2025-09-14T17:05:33.226692Z"
    }
   },
   "cell_type": "code",
   "source": "df_clean['Bathroom'].max()",
   "id": "1b2bb7d6112877ba",
   "outputs": [
    {
     "data": {
      "text/plain": [
       "6.0"
      ]
     },
     "execution_count": 162,
     "metadata": {},
     "output_type": "execute_result"
    }
   ],
   "execution_count": 162
  },
  {
   "metadata": {},
   "cell_type": "code",
   "outputs": [
    {
     "name": "stdout",
     "output_type": "stream",
     "text": [
      "count     186703\n",
      "unique        11\n",
      "top            2\n",
      "freq       93007\n",
      "Name: Bathroom, dtype: object\n"
     ]
    }
   ],
   "execution_count": 157,
   "source": "print(df['Bathroom'].describe())",
   "id": "44d45cc0c7cf4311"
  },
  {
   "metadata": {},
   "cell_type": "markdown",
   "source": "## Encoding Categorical Columns (using One Hot Encoding)",
   "id": "fc220eac08cb6477"
  },
  {
   "metadata": {
    "ExecuteTime": {
     "end_time": "2025-09-14T17:06:48.599169Z",
     "start_time": "2025-09-14T17:06:48.492450Z"
    }
   },
   "cell_type": "code",
   "source": [
    "categorical_cols = ['location', 'Transaction', 'Furnishing', 'facing', 'Ownership']\n",
    "df_encoded = pd.get_dummies(df_clean, columns=categorical_cols, dtype=int)"
   ],
   "id": "ca1ddeeb3c6f6a5a",
   "outputs": [],
   "execution_count": 163
  },
  {
   "metadata": {
    "ExecuteTime": {
     "end_time": "2025-09-14T16:48:47.710799Z",
     "start_time": "2025-09-14T16:48:47.689071Z"
    }
   },
   "cell_type": "code",
   "outputs": [
    {
     "data": {
      "text/plain": [
       "   Amount(in rupees)  Floor  Bathroom  Balcony  BHK   Area  location_agra  \\\n",
       "0          15.250595     10       1.0        2    1  500.0              0   \n",
       "1          16.097893      3       2.0        2    2  473.0              0   \n",
       "2          16.454568     10       2.0        2    2  779.0              0   \n",
       "3          14.731802      1       1.0        1    1  530.0              0   \n",
       "4          16.588099     20       2.0        2    2  635.0              0   \n",
       "\n",
       "   location_ahmadnagar  location_ahmedabad  location_allahabad  ...  \\\n",
       "0                    0                   0                   0  ...   \n",
       "1                    0                   0                   0  ...   \n",
       "2                    0                   0                   0  ...   \n",
       "3                    0                   0                   0  ...   \n",
       "4                    0                   0                   0  ...   \n",
       "\n",
       "   facing_North - East  facing_North - West  facing_South  \\\n",
       "0                    0                    0             0   \n",
       "1                    0                    0             0   \n",
       "2                    0                    0             0   \n",
       "3                    0                    0             0   \n",
       "4                    0                    0             0   \n",
       "\n",
       "   facing_South - East  facing_South -West  facing_West  \\\n",
       "0                    0                   0            0   \n",
       "1                    0                   0            0   \n",
       "2                    0                   0            0   \n",
       "3                    0                   0            0   \n",
       "4                    0                   0            1   \n",
       "\n",
       "   Ownership_Co-operative Society  Ownership_Freehold  Ownership_Leasehold  \\\n",
       "0                               0                   1                    0   \n",
       "1                               0                   1                    0   \n",
       "2                               0                   1                    0   \n",
       "3                               0                   1                    0   \n",
       "4                               1                   0                    0   \n",
       "\n",
       "   Ownership_Power Of Attorney  \n",
       "0                            0  \n",
       "1                            0  \n",
       "2                            0  \n",
       "3                            0  \n",
       "4                            0  \n",
       "\n",
       "[5 rows x 106 columns]"
      ],
      "text/html": [
       "<div>\n",
       "<style scoped>\n",
       "    .dataframe tbody tr th:only-of-type {\n",
       "        vertical-align: middle;\n",
       "    }\n",
       "\n",
       "    .dataframe tbody tr th {\n",
       "        vertical-align: top;\n",
       "    }\n",
       "\n",
       "    .dataframe thead th {\n",
       "        text-align: right;\n",
       "    }\n",
       "</style>\n",
       "<table border=\"1\" class=\"dataframe\">\n",
       "  <thead>\n",
       "    <tr style=\"text-align: right;\">\n",
       "      <th></th>\n",
       "      <th>Amount(in rupees)</th>\n",
       "      <th>Floor</th>\n",
       "      <th>Bathroom</th>\n",
       "      <th>Balcony</th>\n",
       "      <th>BHK</th>\n",
       "      <th>Area</th>\n",
       "      <th>location_agra</th>\n",
       "      <th>location_ahmadnagar</th>\n",
       "      <th>location_ahmedabad</th>\n",
       "      <th>location_allahabad</th>\n",
       "      <th>...</th>\n",
       "      <th>facing_North - East</th>\n",
       "      <th>facing_North - West</th>\n",
       "      <th>facing_South</th>\n",
       "      <th>facing_South - East</th>\n",
       "      <th>facing_South -West</th>\n",
       "      <th>facing_West</th>\n",
       "      <th>Ownership_Co-operative Society</th>\n",
       "      <th>Ownership_Freehold</th>\n",
       "      <th>Ownership_Leasehold</th>\n",
       "      <th>Ownership_Power Of Attorney</th>\n",
       "    </tr>\n",
       "  </thead>\n",
       "  <tbody>\n",
       "    <tr>\n",
       "      <th>0</th>\n",
       "      <td>15.250595</td>\n",
       "      <td>10</td>\n",
       "      <td>1.0</td>\n",
       "      <td>2</td>\n",
       "      <td>1</td>\n",
       "      <td>500.0</td>\n",
       "      <td>0</td>\n",
       "      <td>0</td>\n",
       "      <td>0</td>\n",
       "      <td>0</td>\n",
       "      <td>...</td>\n",
       "      <td>0</td>\n",
       "      <td>0</td>\n",
       "      <td>0</td>\n",
       "      <td>0</td>\n",
       "      <td>0</td>\n",
       "      <td>0</td>\n",
       "      <td>0</td>\n",
       "      <td>1</td>\n",
       "      <td>0</td>\n",
       "      <td>0</td>\n",
       "    </tr>\n",
       "    <tr>\n",
       "      <th>1</th>\n",
       "      <td>16.097893</td>\n",
       "      <td>3</td>\n",
       "      <td>2.0</td>\n",
       "      <td>2</td>\n",
       "      <td>2</td>\n",
       "      <td>473.0</td>\n",
       "      <td>0</td>\n",
       "      <td>0</td>\n",
       "      <td>0</td>\n",
       "      <td>0</td>\n",
       "      <td>...</td>\n",
       "      <td>0</td>\n",
       "      <td>0</td>\n",
       "      <td>0</td>\n",
       "      <td>0</td>\n",
       "      <td>0</td>\n",
       "      <td>0</td>\n",
       "      <td>0</td>\n",
       "      <td>1</td>\n",
       "      <td>0</td>\n",
       "      <td>0</td>\n",
       "    </tr>\n",
       "    <tr>\n",
       "      <th>2</th>\n",
       "      <td>16.454568</td>\n",
       "      <td>10</td>\n",
       "      <td>2.0</td>\n",
       "      <td>2</td>\n",
       "      <td>2</td>\n",
       "      <td>779.0</td>\n",
       "      <td>0</td>\n",
       "      <td>0</td>\n",
       "      <td>0</td>\n",
       "      <td>0</td>\n",
       "      <td>...</td>\n",
       "      <td>0</td>\n",
       "      <td>0</td>\n",
       "      <td>0</td>\n",
       "      <td>0</td>\n",
       "      <td>0</td>\n",
       "      <td>0</td>\n",
       "      <td>0</td>\n",
       "      <td>1</td>\n",
       "      <td>0</td>\n",
       "      <td>0</td>\n",
       "    </tr>\n",
       "    <tr>\n",
       "      <th>3</th>\n",
       "      <td>14.731802</td>\n",
       "      <td>1</td>\n",
       "      <td>1.0</td>\n",
       "      <td>1</td>\n",
       "      <td>1</td>\n",
       "      <td>530.0</td>\n",
       "      <td>0</td>\n",
       "      <td>0</td>\n",
       "      <td>0</td>\n",
       "      <td>0</td>\n",
       "      <td>...</td>\n",
       "      <td>0</td>\n",
       "      <td>0</td>\n",
       "      <td>0</td>\n",
       "      <td>0</td>\n",
       "      <td>0</td>\n",
       "      <td>0</td>\n",
       "      <td>0</td>\n",
       "      <td>1</td>\n",
       "      <td>0</td>\n",
       "      <td>0</td>\n",
       "    </tr>\n",
       "    <tr>\n",
       "      <th>4</th>\n",
       "      <td>16.588099</td>\n",
       "      <td>20</td>\n",
       "      <td>2.0</td>\n",
       "      <td>2</td>\n",
       "      <td>2</td>\n",
       "      <td>635.0</td>\n",
       "      <td>0</td>\n",
       "      <td>0</td>\n",
       "      <td>0</td>\n",
       "      <td>0</td>\n",
       "      <td>...</td>\n",
       "      <td>0</td>\n",
       "      <td>0</td>\n",
       "      <td>0</td>\n",
       "      <td>0</td>\n",
       "      <td>0</td>\n",
       "      <td>1</td>\n",
       "      <td>1</td>\n",
       "      <td>0</td>\n",
       "      <td>0</td>\n",
       "      <td>0</td>\n",
       "    </tr>\n",
       "  </tbody>\n",
       "</table>\n",
       "<p>5 rows × 106 columns</p>\n",
       "</div>"
      ]
     },
     "execution_count": 151,
     "metadata": {},
     "output_type": "execute_result"
    }
   ],
   "execution_count": 151,
   "source": "df_encoded.head(5)",
   "id": "996627714610457f"
  },
  {
   "metadata": {
    "ExecuteTime": {
     "end_time": "2025-09-14T17:07:46.169236Z",
     "start_time": "2025-09-14T17:07:43.886510Z"
    }
   },
   "cell_type": "code",
   "source": "df_encoded.to_csv('CleanedData_OHE.csv', index=False)",
   "id": "95a24413bfa9977b",
   "outputs": [],
   "execution_count": 164
  },
  {
   "metadata": {
    "ExecuteTime": {
     "end_time": "2025-09-14T17:08:06.138719Z",
     "start_time": "2025-09-14T17:08:05.423276Z"
    }
   },
   "cell_type": "code",
   "source": "df_clean.to_csv('CleanedData.csv', index=False)",
   "id": "af6675b20a34fa6c",
   "outputs": [],
   "execution_count": 165
  },
  {
   "metadata": {},
   "cell_type": "code",
   "outputs": [],
   "execution_count": null,
   "source": "",
   "id": "38b09a1711491eaa"
  }
 ],
 "metadata": {
  "kernelspec": {
   "display_name": "Python 3",
   "language": "python",
   "name": "python3"
  },
  "language_info": {
   "codemirror_mode": {
    "name": "ipython",
    "version": 2
   },
   "file_extension": ".py",
   "mimetype": "text/x-python",
   "name": "python",
   "nbconvert_exporter": "python",
   "pygments_lexer": "ipython2",
   "version": "2.7.6"
  }
 },
 "nbformat": 4,
 "nbformat_minor": 5
}
