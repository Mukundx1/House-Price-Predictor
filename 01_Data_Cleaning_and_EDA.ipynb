{
 "cells": [
  {
   "cell_type": "code",
   "id": "initial_id",
   "metadata": {
    "collapsed": true,
    "ExecuteTime": {
     "end_time": "2025-09-14T07:47:08.195202Z",
     "start_time": "2025-09-14T07:47:08.179406Z"
    }
   },
   "source": [
    "import pandas as pd\n",
    "import numpy as np\n",
    "import matplotlib.pyplot as plt\n",
    "import seaborn as sns"
   ],
   "outputs": [],
   "execution_count": 42
  },
  {
   "metadata": {
    "ExecuteTime": {
     "end_time": "2025-09-14T07:40:10.310667Z",
     "start_time": "2025-09-14T07:40:09.275938Z"
    }
   },
   "cell_type": "code",
   "source": [
    "df = pd.read_csv('Data/house_prices.csv')\n",
    "df.sample(2)"
   ],
   "id": "f60b2962be5a1ba6",
   "outputs": [
    {
     "data": {
      "text/plain": [
       "         Index                                           Title  \\\n",
       "146527  146527  2 BHK Ready to Occupy Flat for sale Kasba Peth   \n",
       "155293  155293   2 BHK Ready to Occupy Flat for sale Sector 48   \n",
       "\n",
       "                                              Description Amount(in rupees)  \\\n",
       "146527  Kasba Peth, Pune has an appealing 2 BHK flat f...           66 Lac    \n",
       "155293  Creatively planned and constructed is a 2 BHK ...         31.5 Lac    \n",
       "\n",
       "        Price (in rupees)   location Carpet Area         Status       Floor  \\\n",
       "146527             7952.0       pune         NaN  Ready to Move  1 out of 3   \n",
       "155293             3750.0  faridabad    800 sqft  Ready to Move  1 out of 4   \n",
       "\n",
       "         Transaction  ... facing                   overlooking Society  \\\n",
       "146527        Resale  ...    NaN                           NaN     NaN   \n",
       "155293  New Property  ...  North  Garden/Park, Pool, Main Road     NaN   \n",
       "\n",
       "       Bathroom Balcony Car Parking Ownership Super Area Dimensions  Plot Area  \n",
       "146527        1     NaN         NaN       NaN   830 sqft        NaN        NaN  \n",
       "155293        2       2  1 Covered,  Freehold        NaN        NaN        NaN  \n",
       "\n",
       "[2 rows x 21 columns]"
      ],
      "text/html": [
       "<div>\n",
       "<style scoped>\n",
       "    .dataframe tbody tr th:only-of-type {\n",
       "        vertical-align: middle;\n",
       "    }\n",
       "\n",
       "    .dataframe tbody tr th {\n",
       "        vertical-align: top;\n",
       "    }\n",
       "\n",
       "    .dataframe thead th {\n",
       "        text-align: right;\n",
       "    }\n",
       "</style>\n",
       "<table border=\"1\" class=\"dataframe\">\n",
       "  <thead>\n",
       "    <tr style=\"text-align: right;\">\n",
       "      <th></th>\n",
       "      <th>Index</th>\n",
       "      <th>Title</th>\n",
       "      <th>Description</th>\n",
       "      <th>Amount(in rupees)</th>\n",
       "      <th>Price (in rupees)</th>\n",
       "      <th>location</th>\n",
       "      <th>Carpet Area</th>\n",
       "      <th>Status</th>\n",
       "      <th>Floor</th>\n",
       "      <th>Transaction</th>\n",
       "      <th>...</th>\n",
       "      <th>facing</th>\n",
       "      <th>overlooking</th>\n",
       "      <th>Society</th>\n",
       "      <th>Bathroom</th>\n",
       "      <th>Balcony</th>\n",
       "      <th>Car Parking</th>\n",
       "      <th>Ownership</th>\n",
       "      <th>Super Area</th>\n",
       "      <th>Dimensions</th>\n",
       "      <th>Plot Area</th>\n",
       "    </tr>\n",
       "  </thead>\n",
       "  <tbody>\n",
       "    <tr>\n",
       "      <th>146527</th>\n",
       "      <td>146527</td>\n",
       "      <td>2 BHK Ready to Occupy Flat for sale Kasba Peth</td>\n",
       "      <td>Kasba Peth, Pune has an appealing 2 BHK flat f...</td>\n",
       "      <td>66 Lac</td>\n",
       "      <td>7952.0</td>\n",
       "      <td>pune</td>\n",
       "      <td>NaN</td>\n",
       "      <td>Ready to Move</td>\n",
       "      <td>1 out of 3</td>\n",
       "      <td>Resale</td>\n",
       "      <td>...</td>\n",
       "      <td>NaN</td>\n",
       "      <td>NaN</td>\n",
       "      <td>NaN</td>\n",
       "      <td>1</td>\n",
       "      <td>NaN</td>\n",
       "      <td>NaN</td>\n",
       "      <td>NaN</td>\n",
       "      <td>830 sqft</td>\n",
       "      <td>NaN</td>\n",
       "      <td>NaN</td>\n",
       "    </tr>\n",
       "    <tr>\n",
       "      <th>155293</th>\n",
       "      <td>155293</td>\n",
       "      <td>2 BHK Ready to Occupy Flat for sale Sector 48</td>\n",
       "      <td>Creatively planned and constructed is a 2 BHK ...</td>\n",
       "      <td>31.5 Lac</td>\n",
       "      <td>3750.0</td>\n",
       "      <td>faridabad</td>\n",
       "      <td>800 sqft</td>\n",
       "      <td>Ready to Move</td>\n",
       "      <td>1 out of 4</td>\n",
       "      <td>New Property</td>\n",
       "      <td>...</td>\n",
       "      <td>North</td>\n",
       "      <td>Garden/Park, Pool, Main Road</td>\n",
       "      <td>NaN</td>\n",
       "      <td>2</td>\n",
       "      <td>2</td>\n",
       "      <td>1 Covered,</td>\n",
       "      <td>Freehold</td>\n",
       "      <td>NaN</td>\n",
       "      <td>NaN</td>\n",
       "      <td>NaN</td>\n",
       "    </tr>\n",
       "  </tbody>\n",
       "</table>\n",
       "<p>2 rows × 21 columns</p>\n",
       "</div>"
      ]
     },
     "execution_count": 32,
     "metadata": {},
     "output_type": "execute_result"
    }
   ],
   "execution_count": 32
  },
  {
   "metadata": {
    "ExecuteTime": {
     "end_time": "2025-09-14T07:40:13.879986Z",
     "start_time": "2025-09-14T07:40:13.845698Z"
    }
   },
   "cell_type": "code",
   "source": "df = df.iloc[:,1:] # Removed the Index column as it was unnecessary",
   "id": "22d104071e473de0",
   "outputs": [],
   "execution_count": 33
  },
  {
   "metadata": {
    "ExecuteTime": {
     "end_time": "2025-09-14T07:40:15.295833Z",
     "start_time": "2025-09-14T07:40:15.264215Z"
    }
   },
   "cell_type": "code",
   "source": "df_clean = df.drop(['Society','Status','Car Parking','Super Area'],axis=1) # High Percentage of Missing Values: Society (58.5%), Car Parking (55.1%), and Super Area (57.4%). Also dropped the Status column as it has a constant value throughout",
   "id": "5dc8edc0ec57b49b",
   "outputs": [],
   "execution_count": 34
  },
  {
   "metadata": {
    "ExecuteTime": {
     "end_time": "2025-09-14T07:37:49.295539Z",
     "start_time": "2025-09-14T07:37:49.280031Z"
    }
   },
   "cell_type": "code",
   "source": [
    "column_names = df.columns\n",
    "print(column_names)"
   ],
   "id": "46e5764e08c275aa",
   "outputs": [
    {
     "name": "stdout",
     "output_type": "stream",
     "text": [
      "Index(['Title', 'Description', 'Amount(in rupees)', 'Price (in rupees)',\n",
      "       'location', 'Carpet Area', 'Status', 'Floor', 'Transaction',\n",
      "       'Furnishing', 'facing', 'overlooking', 'Society', 'Bathroom', 'Balcony',\n",
      "       'Car Parking', 'Ownership', 'Super Area', 'Dimensions', 'Plot Area'],\n",
      "      dtype='object')\n"
     ]
    }
   ],
   "execution_count": 29
  },
  {
   "metadata": {
    "ExecuteTime": {
     "end_time": "2025-09-14T07:40:22.683346Z",
     "start_time": "2025-09-14T07:40:22.635592Z"
    }
   },
   "cell_type": "code",
   "source": "df_cleaned = df[df['Amount(in rupees)'] != 'Call for Price']",
   "id": "2f20fbba9c4dad9b",
   "outputs": [],
   "execution_count": 35
  },
  {
   "metadata": {
    "ExecuteTime": {
     "end_time": "2025-09-14T07:41:04.327742Z",
     "start_time": "2025-09-14T07:41:04.159805Z"
    }
   },
   "cell_type": "code",
   "source": [
    "def indian_str_to_number(s):\n",
    "    s = s.strip()\n",
    "    if s.endswith(' Lac'):\n",
    "        num = float(s.replace('Lac', '').strip())\n",
    "        return int(num * 1e5)\n",
    "    elif s.endswith(' Cr'):\n",
    "        num = float(s.replace('Cr', '').strip())\n",
    "        return int(num * 1e7)\n",
    "    else:\n",
    "        return int(float(s))\n",
    "\n",
    "df_cleaned.loc[:, 'Amount(in rupees)'] = df_cleaned['Amount(in rupees)'].apply(indian_str_to_number)"
   ],
   "id": "36616028ef332ef9",
   "outputs": [],
   "execution_count": 36
  },
  {
   "metadata": {
    "ExecuteTime": {
     "end_time": "2025-09-14T07:42:32.448231Z",
     "start_time": "2025-09-14T07:42:32.420671Z"
    }
   },
   "cell_type": "code",
   "source": "df_cleaned['Amount(in rupees)'].describe()",
   "id": "d0619d657b4dde34",
   "outputs": [
    {
     "data": {
      "text/plain": [
       "count      177847\n",
       "unique       1559\n",
       "top       8500000\n",
       "freq         5264\n",
       "Name: Amount(in rupees), dtype: int64"
      ]
     },
     "execution_count": 39,
     "metadata": {},
     "output_type": "execute_result"
    }
   ],
   "execution_count": 39
  },
  {
   "metadata": {
    "ExecuteTime": {
     "end_time": "2025-09-14T07:43:22.101180Z",
     "start_time": "2025-09-14T07:43:22.065046Z"
    }
   },
   "cell_type": "code",
   "source": [
    "# Skewness value\n",
    "print(\"Skewness:\", df_cleaned['Amount(in rupees)'].skew())\n",
    "# This shows extremely high skewness need to apply some transformations"
   ],
   "id": "d81b25acbe5b28a",
   "outputs": [
    {
     "name": "stdout",
     "output_type": "stream",
     "text": [
      "Skewness: 270.25594003861767\n"
     ]
    }
   ],
   "execution_count": 40
  },
  {
   "metadata": {
    "ExecuteTime": {
     "end_time": "2025-09-14T08:08:23.611191Z",
     "start_time": "2025-09-14T08:08:23.594401Z"
    }
   },
   "cell_type": "code",
   "source": [
    "# Applying log transformation\n",
    "df_cleaned.loc[:, 'Log_Price'] = np.log1p(df_cleaned['Amount(in rupees)'].astype(float))\n",
    "\n",
    "print(\"Skewness after log:\", df_cleaned['Log_Price'].skew())"
   ],
   "id": "81594949b03c479d",
   "outputs": [
    {
     "name": "stdout",
     "output_type": "stream",
     "text": [
      "Skewness after log: 0.2887446822592996\n"
     ]
    }
   ],
   "execution_count": 53
  },
  {
   "metadata": {
    "ExecuteTime": {
     "end_time": "2025-09-14T07:48:41.231089Z",
     "start_time": "2025-09-14T07:48:41.199312Z"
    }
   },
   "cell_type": "code",
   "source": "df_cleaned = df_cleaned.drop('Price (in rupees)', axis=1)",
   "id": "516386c4cdfddcd3",
   "outputs": [],
   "execution_count": 44
  },
  {
   "metadata": {
    "ExecuteTime": {
     "end_time": "2025-09-14T07:49:26.617803Z",
     "start_time": "2025-09-14T07:49:26.602159Z"
    }
   },
   "cell_type": "code",
   "source": "df_cleaned.head(2)",
   "id": "b7664c98ce4e46",
   "outputs": [
    {
     "data": {
      "text/plain": [
       "                                               Title  \\\n",
       "0  1 BHK Ready to Occupy Flat for sale in Srushti...   \n",
       "1  2 BHK Ready to Occupy Flat for sale in Dosti V...   \n",
       "\n",
       "                                         Description Amount(in rupees)  \\\n",
       "0  Bhiwandi, Thane has an attractive 1 BHK Flat f...           4200000   \n",
       "1  One can find this stunning 2 BHK flat for sale...           9800000   \n",
       "\n",
       "  location Carpet Area         Status         Floor Transaction  \\\n",
       "0    thane    500 sqft  Ready to Move  10 out of 11      Resale   \n",
       "1    thane    473 sqft  Ready to Move   3 out of 22      Resale   \n",
       "\n",
       "       Furnishing facing  overlooking                              Society  \\\n",
       "0     Unfurnished    NaN          NaN  Srushti Siddhi Mangal Murti Complex   \n",
       "1  Semi-Furnished   East  Garden/Park                          Dosti Vihar   \n",
       "\n",
       "  Bathroom Balcony Car Parking Ownership Super Area  Dimensions  Plot Area  \\\n",
       "0        1       2         NaN       NaN        NaN         NaN        NaN   \n",
       "1        2     NaN      1 Open  Freehold        NaN         NaN        NaN   \n",
       "\n",
       "   Log_Price  \n",
       "0  15.250595  \n",
       "1  16.097893  "
      ],
      "text/html": [
       "<div>\n",
       "<style scoped>\n",
       "    .dataframe tbody tr th:only-of-type {\n",
       "        vertical-align: middle;\n",
       "    }\n",
       "\n",
       "    .dataframe tbody tr th {\n",
       "        vertical-align: top;\n",
       "    }\n",
       "\n",
       "    .dataframe thead th {\n",
       "        text-align: right;\n",
       "    }\n",
       "</style>\n",
       "<table border=\"1\" class=\"dataframe\">\n",
       "  <thead>\n",
       "    <tr style=\"text-align: right;\">\n",
       "      <th></th>\n",
       "      <th>Title</th>\n",
       "      <th>Description</th>\n",
       "      <th>Amount(in rupees)</th>\n",
       "      <th>location</th>\n",
       "      <th>Carpet Area</th>\n",
       "      <th>Status</th>\n",
       "      <th>Floor</th>\n",
       "      <th>Transaction</th>\n",
       "      <th>Furnishing</th>\n",
       "      <th>facing</th>\n",
       "      <th>overlooking</th>\n",
       "      <th>Society</th>\n",
       "      <th>Bathroom</th>\n",
       "      <th>Balcony</th>\n",
       "      <th>Car Parking</th>\n",
       "      <th>Ownership</th>\n",
       "      <th>Super Area</th>\n",
       "      <th>Dimensions</th>\n",
       "      <th>Plot Area</th>\n",
       "      <th>Log_Price</th>\n",
       "    </tr>\n",
       "  </thead>\n",
       "  <tbody>\n",
       "    <tr>\n",
       "      <th>0</th>\n",
       "      <td>1 BHK Ready to Occupy Flat for sale in Srushti...</td>\n",
       "      <td>Bhiwandi, Thane has an attractive 1 BHK Flat f...</td>\n",
       "      <td>4200000</td>\n",
       "      <td>thane</td>\n",
       "      <td>500 sqft</td>\n",
       "      <td>Ready to Move</td>\n",
       "      <td>10 out of 11</td>\n",
       "      <td>Resale</td>\n",
       "      <td>Unfurnished</td>\n",
       "      <td>NaN</td>\n",
       "      <td>NaN</td>\n",
       "      <td>Srushti Siddhi Mangal Murti Complex</td>\n",
       "      <td>1</td>\n",
       "      <td>2</td>\n",
       "      <td>NaN</td>\n",
       "      <td>NaN</td>\n",
       "      <td>NaN</td>\n",
       "      <td>NaN</td>\n",
       "      <td>NaN</td>\n",
       "      <td>15.250595</td>\n",
       "    </tr>\n",
       "    <tr>\n",
       "      <th>1</th>\n",
       "      <td>2 BHK Ready to Occupy Flat for sale in Dosti V...</td>\n",
       "      <td>One can find this stunning 2 BHK flat for sale...</td>\n",
       "      <td>9800000</td>\n",
       "      <td>thane</td>\n",
       "      <td>473 sqft</td>\n",
       "      <td>Ready to Move</td>\n",
       "      <td>3 out of 22</td>\n",
       "      <td>Resale</td>\n",
       "      <td>Semi-Furnished</td>\n",
       "      <td>East</td>\n",
       "      <td>Garden/Park</td>\n",
       "      <td>Dosti Vihar</td>\n",
       "      <td>2</td>\n",
       "      <td>NaN</td>\n",
       "      <td>1 Open</td>\n",
       "      <td>Freehold</td>\n",
       "      <td>NaN</td>\n",
       "      <td>NaN</td>\n",
       "      <td>NaN</td>\n",
       "      <td>16.097893</td>\n",
       "    </tr>\n",
       "  </tbody>\n",
       "</table>\n",
       "</div>"
      ]
     },
     "execution_count": 45,
     "metadata": {},
     "output_type": "execute_result"
    }
   ],
   "execution_count": 45
  },
  {
   "metadata": {
    "ExecuteTime": {
     "end_time": "2025-09-14T07:52:57.551174Z",
     "start_time": "2025-09-14T07:52:57.249792Z"
    }
   },
   "cell_type": "code",
   "source": [
    "# Extracting number of rooms from the title column\n",
    "df_cleaned['BHK'] = df_cleaned['Title'].str.extract('(\\d+)').astype(float)"
   ],
   "id": "17613fce2da8ac62",
   "outputs": [],
   "execution_count": 46
  },
  {
   "metadata": {
    "ExecuteTime": {
     "end_time": "2025-09-14T08:06:59.493504Z",
     "start_time": "2025-09-14T08:06:59.468610Z"
    }
   },
   "cell_type": "code",
   "source": [
    "# Handling missing values\n",
    "df_cleaned['BHK'].isnull().sum() # 258\n",
    "# Its better to use median instead of mean because the mean (average) is sensitive to outliers. Imagine your data has a few 10-BHK mansions. These large values will pull the mean higher, making it less representative of a \"typical\" house.\n",
    "\n",
    "# 1. Calculate the median of the BHK column\n",
    "bhk_median = df_cleaned['BHK'].median()\n",
    "print(f\"The median BHK is: {bhk_median}\")\n",
    "\n",
    "# 2. Fill the missing values (NaNs) with the median\n",
    "df_cleaned['BHK'] = df_cleaned['BHK'].fillna(bhk_median)\n",
    "\n",
    "# You can verify that there are no more nulls\n",
    "print(f\"Null values in BHK after filling: {df_cleaned['BHK'].isnull().sum()}\")"
   ],
   "id": "8f700a2911b4e73f",
   "outputs": [
    {
     "name": "stdout",
     "output_type": "stream",
     "text": [
      "The median BHK is: 3.0\n",
      "Null values in BHK after filling: 0\n"
     ]
    }
   ],
   "execution_count": 52
  },
  {
   "metadata": {
    "ExecuteTime": {
     "end_time": "2025-09-14T08:09:43.412661Z",
     "start_time": "2025-09-14T08:09:43.381071Z"
    }
   },
   "cell_type": "code",
   "source": "df_cleaned = df_cleaned.drop('Title', axis=1)",
   "id": "5069ddd713b39c22",
   "outputs": [],
   "execution_count": 54
  },
  {
   "metadata": {
    "ExecuteTime": {
     "end_time": "2025-09-14T08:13:04.772016Z",
     "start_time": "2025-09-14T08:13:04.716347Z"
    }
   },
   "cell_type": "code",
   "source": [
    "cols_to_fill = ['facing', 'overlooking', 'Balcony']  # replace with your columns\n",
    "\n",
    "for col in cols_to_fill:\n",
    "    df_cleaned[col]=df_cleaned[col].fillna(df_cleaned[col].mode()[0])"
   ],
   "id": "43660bffb162b07e",
   "outputs": [],
   "execution_count": 56
  },
  {
   "metadata": {
    "ExecuteTime": {
     "end_time": "2025-09-14T08:19:29.831884Z",
     "start_time": "2025-09-14T08:19:29.391672Z"
    }
   },
   "cell_type": "code",
   "source": "df_cleaned['Floor'] = df_cleaned['Floor'].str.extract('(\\d+)').astype(float)",
   "id": "905970bd17eb4fe8",
   "outputs": [],
   "execution_count": 57
  },
  {
   "metadata": {
    "ExecuteTime": {
     "end_time": "2025-09-14T08:19:44.431987Z",
     "start_time": "2025-09-14T08:19:44.411477Z"
    }
   },
   "cell_type": "code",
   "source": "df_cleaned['Floor'].describe()",
   "id": "56c09707336e48d3",
   "outputs": [
    {
     "data": {
      "text/plain": [
       "count    170893.000000\n",
       "mean          4.841954\n",
       "std           4.645418\n",
       "min           1.000000\n",
       "25%           2.000000\n",
       "50%           3.000000\n",
       "75%           6.000000\n",
       "max         200.000000\n",
       "Name: Floor, dtype: float64"
      ]
     },
     "execution_count": 58,
     "metadata": {},
     "output_type": "execute_result"
    }
   ],
   "execution_count": 58
  },
  {
   "metadata": {
    "ExecuteTime": {
     "end_time": "2025-09-14T08:27:33.391044Z",
     "start_time": "2025-09-14T08:27:33.375317Z"
    }
   },
   "cell_type": "code",
   "source": "print(df_cleaned['Floor'].skew())",
   "id": "cc6f3a9466d62b99",
   "outputs": [
    {
     "name": "stdout",
     "output_type": "stream",
     "text": [
      "2.8631639562125817\n"
     ]
    }
   ],
   "execution_count": 67
  },
  {
   "metadata": {
    "ExecuteTime": {
     "end_time": "2025-09-14T08:21:44.884240Z",
     "start_time": "2025-09-14T08:21:44.864011Z"
    }
   },
   "cell_type": "code",
   "source": "df_cleaned['Carpet Area'].describe()",
   "id": "cf30c486dd9bd21f",
   "outputs": [
    {
     "data": {
      "text/plain": [
       "count        101522\n",
       "unique         2699\n",
       "top       1000 sqft\n",
       "freq           5223\n",
       "Name: Carpet Area, dtype: object"
      ]
     },
     "execution_count": 60,
     "metadata": {},
     "output_type": "execute_result"
    }
   ],
   "execution_count": 60
  },
  {
   "metadata": {
    "ExecuteTime": {
     "end_time": "2025-09-14T08:24:01.651844Z",
     "start_time": "2025-09-14T08:24:01.517223Z"
    }
   },
   "cell_type": "code",
   "source": "df_cleaned['Area'] = df_cleaned['Carpet Area'].str.extract(r'(\\d+\\.?\\d*)').astype(float)",
   "id": "242c69b82828d018",
   "outputs": [],
   "execution_count": 61
  },
  {
   "metadata": {
    "ExecuteTime": {
     "end_time": "2025-09-14T08:24:56.906986Z",
     "start_time": "2025-09-14T08:24:56.876753Z"
    }
   },
   "cell_type": "code",
   "source": "print(df_cleaned['Area'].skew())",
   "id": "be76fa1dbbef69f4",
   "outputs": [
    {
     "name": "stdout",
     "output_type": "stream",
     "text": [
      "165.82480607951786\n"
     ]
    }
   ],
   "execution_count": 63
  },
  {
   "metadata": {
    "ExecuteTime": {
     "end_time": "2025-09-14T08:26:10.118332Z",
     "start_time": "2025-09-14T08:26:10.102223Z"
    }
   },
   "cell_type": "code",
   "source": "df_cleaned['Area'] = np.log1p(df_cleaned['Area'])",
   "id": "e933c8f976f0143d",
   "outputs": [],
   "execution_count": 64
  },
  {
   "metadata": {
    "ExecuteTime": {
     "end_time": "2025-09-14T08:26:13.724181Z",
     "start_time": "2025-09-14T08:26:13.708124Z"
    }
   },
   "cell_type": "code",
   "source": "print(df_cleaned['Area'].skew())",
   "id": "412012ea97e0f590",
   "outputs": [
    {
     "name": "stdout",
     "output_type": "stream",
     "text": [
      "-1.5989631331705665\n"
     ]
    }
   ],
   "execution_count": 65
  },
  {
   "metadata": {
    "ExecuteTime": {
     "end_time": "2025-09-14T08:28:08.657255Z",
     "start_time": "2025-09-14T08:28:08.630278Z"
    }
   },
   "cell_type": "code",
   "source": "df_cleaned = df_cleaned.drop('Carpet Area', axis=1)",
   "id": "1d53a1bc8797c406",
   "outputs": [],
   "execution_count": 68
  },
  {
   "metadata": {
    "ExecuteTime": {
     "end_time": "2025-09-14T08:28:16.584842Z",
     "start_time": "2025-09-14T08:28:16.568783Z"
    }
   },
   "cell_type": "code",
   "source": "df_cleaned.head(0)",
   "id": "8dd1de6ae7252344",
   "outputs": [
    {
     "data": {
      "text/plain": [
       "Empty DataFrame\n",
       "Columns: [Description, Amount(in rupees), location, Status, Floor, Transaction, Furnishing, facing, overlooking, Society, Bathroom, Balcony, Car Parking, Ownership, Super Area, Dimensions, Plot Area, Log_Price, BHK, Area]\n",
       "Index: []"
      ],
      "text/html": [
       "<div>\n",
       "<style scoped>\n",
       "    .dataframe tbody tr th:only-of-type {\n",
       "        vertical-align: middle;\n",
       "    }\n",
       "\n",
       "    .dataframe tbody tr th {\n",
       "        vertical-align: top;\n",
       "    }\n",
       "\n",
       "    .dataframe thead th {\n",
       "        text-align: right;\n",
       "    }\n",
       "</style>\n",
       "<table border=\"1\" class=\"dataframe\">\n",
       "  <thead>\n",
       "    <tr style=\"text-align: right;\">\n",
       "      <th></th>\n",
       "      <th>Description</th>\n",
       "      <th>Amount(in rupees)</th>\n",
       "      <th>location</th>\n",
       "      <th>Status</th>\n",
       "      <th>Floor</th>\n",
       "      <th>Transaction</th>\n",
       "      <th>Furnishing</th>\n",
       "      <th>facing</th>\n",
       "      <th>overlooking</th>\n",
       "      <th>Society</th>\n",
       "      <th>Bathroom</th>\n",
       "      <th>Balcony</th>\n",
       "      <th>Car Parking</th>\n",
       "      <th>Ownership</th>\n",
       "      <th>Super Area</th>\n",
       "      <th>Dimensions</th>\n",
       "      <th>Plot Area</th>\n",
       "      <th>Log_Price</th>\n",
       "      <th>BHK</th>\n",
       "      <th>Area</th>\n",
       "    </tr>\n",
       "  </thead>\n",
       "  <tbody>\n",
       "  </tbody>\n",
       "</table>\n",
       "</div>"
      ]
     },
     "execution_count": 69,
     "metadata": {},
     "output_type": "execute_result"
    }
   ],
   "execution_count": 69
  },
  {
   "metadata": {
    "ExecuteTime": {
     "end_time": "2025-09-14T08:31:01.907090Z",
     "start_time": "2025-09-14T08:31:01.891327Z"
    }
   },
   "cell_type": "code",
   "source": "print(f\"Number of unique locations: {df_cleaned['location'].nunique()}\")",
   "id": "eb2322eebac07d04",
   "outputs": [
    {
     "name": "stdout",
     "output_type": "stream",
     "text": [
      "Number of unique locations: 81\n"
     ]
    }
   ],
   "execution_count": 70
  },
  {
   "metadata": {
    "ExecuteTime": {
     "end_time": "2025-09-14T08:31:39.213447Z",
     "start_time": "2025-09-14T08:31:39.197628Z"
    }
   },
   "cell_type": "code",
   "source": [
    "location_counts = df_cleaned['location'].value_counts()\n",
    "print(location_counts)"
   ],
   "id": "1f113e9ae349b016",
   "outputs": [
    {
     "name": "stdout",
     "output_type": "stream",
     "text": [
      "location\n",
      "new-delhi      24945\n",
      "bangalore      23262\n",
      "kolkata        21605\n",
      "gurgaon        18846\n",
      "ahmedabad      12614\n",
      "               ...  \n",
      "solapur           30\n",
      "ahmadnagar        30\n",
      "nellore           29\n",
      "pondicherry       29\n",
      "madurai           26\n",
      "Name: count, Length: 81, dtype: int64\n"
     ]
    }
   ],
   "execution_count": 71
  },
  {
   "metadata": {
    "ExecuteTime": {
     "end_time": "2025-09-14T08:37:28.196619Z",
     "start_time": "2025-09-14T08:37:28.180813Z"
    }
   },
   "cell_type": "code",
   "source": "locations_to_group = location_counts[location_counts < 40].index",
   "id": "15f19b7f6dafb1f",
   "outputs": [],
   "execution_count": 74
  },
  {
   "metadata": {
    "ExecuteTime": {
     "end_time": "2025-09-14T08:37:28.970301Z",
     "start_time": "2025-09-14T08:37:28.954531Z"
    }
   },
   "cell_type": "code",
   "source": [
    "df_cleaned.loc[df_cleaned['location'].isin(locations_to_group), 'location'] = 'Other'\n",
    "\n",
    "print(f\"New number of unique locations after grouping: {df_cleaned['location'].nunique()}\")"
   ],
   "id": "dfaebaca89311cdd",
   "outputs": [
    {
     "name": "stdout",
     "output_type": "stream",
     "text": [
      "New number of unique locations after grouping: 75\n"
     ]
    }
   ],
   "execution_count": 75
  },
  {
   "metadata": {
    "ExecuteTime": {
     "end_time": "2025-09-14T08:40:54.995679Z",
     "start_time": "2025-09-14T08:40:54.867887Z"
    }
   },
   "cell_type": "code",
   "source": "df_encoded = pd.get_dummies(df_cleaned, columns=['location','Transaction','Furnishing','Ownership'], drop_first=True)",
   "id": "8f62685fc3b9fdfc",
   "outputs": [],
   "execution_count": 76
  },
  {
   "metadata": {
    "ExecuteTime": {
     "end_time": "2025-09-14T08:42:21.933204Z",
     "start_time": "2025-09-14T08:42:21.913651Z"
    }
   },
   "cell_type": "code",
   "source": "df_encoded.head(2)",
   "id": "2b83ac6f1bff0dc",
   "outputs": [
    {
     "data": {
      "text/plain": [
       "                                         Description Amount(in rupees)  \\\n",
       "0  Bhiwandi, Thane has an attractive 1 BHK Flat f...           4200000   \n",
       "1  One can find this stunning 2 BHK flat for sale...           9800000   \n",
       "\n",
       "          Status  Floor facing  overlooking  \\\n",
       "0  Ready to Move   10.0   East    Main Road   \n",
       "1  Ready to Move    3.0   East  Garden/Park   \n",
       "\n",
       "                               Society Bathroom Balcony Car Parking  ...  \\\n",
       "0  Srushti Siddhi Mangal Murti Complex        1       2         NaN  ...   \n",
       "1                          Dosti Vihar        2       2      1 Open  ...   \n",
       "\n",
       "  location_vrindavan  location_zirakpur  Transaction_Other  \\\n",
       "0              False              False              False   \n",
       "1              False              False              False   \n",
       "\n",
       "   Transaction_Rent/Lease  Transaction_Resale  Furnishing_Semi-Furnished  \\\n",
       "0                   False                True                      False   \n",
       "1                   False                True                       True   \n",
       "\n",
       "   Furnishing_Unfurnished  Ownership_Freehold  Ownership_Leasehold  \\\n",
       "0                    True               False                False   \n",
       "1                   False                True                False   \n",
       "\n",
       "   Ownership_Power Of Attorney  \n",
       "0                        False  \n",
       "1                        False  \n",
       "\n",
       "[2 rows x 98 columns]"
      ],
      "text/html": [
       "<div>\n",
       "<style scoped>\n",
       "    .dataframe tbody tr th:only-of-type {\n",
       "        vertical-align: middle;\n",
       "    }\n",
       "\n",
       "    .dataframe tbody tr th {\n",
       "        vertical-align: top;\n",
       "    }\n",
       "\n",
       "    .dataframe thead th {\n",
       "        text-align: right;\n",
       "    }\n",
       "</style>\n",
       "<table border=\"1\" class=\"dataframe\">\n",
       "  <thead>\n",
       "    <tr style=\"text-align: right;\">\n",
       "      <th></th>\n",
       "      <th>Description</th>\n",
       "      <th>Amount(in rupees)</th>\n",
       "      <th>Status</th>\n",
       "      <th>Floor</th>\n",
       "      <th>facing</th>\n",
       "      <th>overlooking</th>\n",
       "      <th>Society</th>\n",
       "      <th>Bathroom</th>\n",
       "      <th>Balcony</th>\n",
       "      <th>Car Parking</th>\n",
       "      <th>...</th>\n",
       "      <th>location_vrindavan</th>\n",
       "      <th>location_zirakpur</th>\n",
       "      <th>Transaction_Other</th>\n",
       "      <th>Transaction_Rent/Lease</th>\n",
       "      <th>Transaction_Resale</th>\n",
       "      <th>Furnishing_Semi-Furnished</th>\n",
       "      <th>Furnishing_Unfurnished</th>\n",
       "      <th>Ownership_Freehold</th>\n",
       "      <th>Ownership_Leasehold</th>\n",
       "      <th>Ownership_Power Of Attorney</th>\n",
       "    </tr>\n",
       "  </thead>\n",
       "  <tbody>\n",
       "    <tr>\n",
       "      <th>0</th>\n",
       "      <td>Bhiwandi, Thane has an attractive 1 BHK Flat f...</td>\n",
       "      <td>4200000</td>\n",
       "      <td>Ready to Move</td>\n",
       "      <td>10.0</td>\n",
       "      <td>East</td>\n",
       "      <td>Main Road</td>\n",
       "      <td>Srushti Siddhi Mangal Murti Complex</td>\n",
       "      <td>1</td>\n",
       "      <td>2</td>\n",
       "      <td>NaN</td>\n",
       "      <td>...</td>\n",
       "      <td>False</td>\n",
       "      <td>False</td>\n",
       "      <td>False</td>\n",
       "      <td>False</td>\n",
       "      <td>True</td>\n",
       "      <td>False</td>\n",
       "      <td>True</td>\n",
       "      <td>False</td>\n",
       "      <td>False</td>\n",
       "      <td>False</td>\n",
       "    </tr>\n",
       "    <tr>\n",
       "      <th>1</th>\n",
       "      <td>One can find this stunning 2 BHK flat for sale...</td>\n",
       "      <td>9800000</td>\n",
       "      <td>Ready to Move</td>\n",
       "      <td>3.0</td>\n",
       "      <td>East</td>\n",
       "      <td>Garden/Park</td>\n",
       "      <td>Dosti Vihar</td>\n",
       "      <td>2</td>\n",
       "      <td>2</td>\n",
       "      <td>1 Open</td>\n",
       "      <td>...</td>\n",
       "      <td>False</td>\n",
       "      <td>False</td>\n",
       "      <td>False</td>\n",
       "      <td>False</td>\n",
       "      <td>True</td>\n",
       "      <td>True</td>\n",
       "      <td>False</td>\n",
       "      <td>True</td>\n",
       "      <td>False</td>\n",
       "      <td>False</td>\n",
       "    </tr>\n",
       "  </tbody>\n",
       "</table>\n",
       "<p>2 rows × 98 columns</p>\n",
       "</div>"
      ]
     },
     "execution_count": 78,
     "metadata": {},
     "output_type": "execute_result"
    }
   ],
   "execution_count": 78
  },
  {
   "metadata": {
    "ExecuteTime": {
     "end_time": "2025-09-14T08:44:23.311480Z",
     "start_time": "2025-09-14T08:44:23.292965Z"
    }
   },
   "cell_type": "code",
   "source": "df_encoded = df_encoded.drop(['Description','Status','Society'],axis=1)",
   "id": "c5871a738eaca1d6",
   "outputs": [],
   "execution_count": 79
  },
  {
   "metadata": {
    "ExecuteTime": {
     "end_time": "2025-09-14T08:44:48.922252Z",
     "start_time": "2025-09-14T08:44:48.871680Z"
    }
   },
   "cell_type": "code",
   "source": "df_encoded =  pd.get_dummies(df_encoded, columns=['facing'], drop_first=True)",
   "id": "3a1332589b51dfb0",
   "outputs": [],
   "execution_count": 80
  },
  {
   "metadata": {
    "ExecuteTime": {
     "end_time": "2025-09-14T08:50:38.123316Z",
     "start_time": "2025-09-14T08:50:38.114491Z"
    }
   },
   "cell_type": "code",
   "source": "df_encoded =  df_encoded.drop(['overlooking','Car Parking'], axis=1)",
   "id": "b1c2ef223a87cba2",
   "outputs": [],
   "execution_count": 84
  },
  {
   "metadata": {
    "ExecuteTime": {
     "end_time": "2025-09-14T08:56:22.810368Z",
     "start_time": "2025-09-14T08:56:22.794531Z"
    }
   },
   "cell_type": "code",
   "source": "df_encoded = df_encoded.drop(['Amount(in rupees)','Super Area','Dimensions','Plot Area'],axis=1)",
   "id": "be04562966d24a6",
   "outputs": [],
   "execution_count": 85
  },
  {
   "metadata": {
    "ExecuteTime": {
     "end_time": "2025-09-14T08:56:48.948066Z",
     "start_time": "2025-09-14T08:56:46.295945Z"
    }
   },
   "cell_type": "code",
   "source": "df_encoded.to_csv('Cleaned_data.csv')",
   "id": "7bb391525df203a",
   "outputs": [],
   "execution_count": 86
  },
  {
   "metadata": {},
   "cell_type": "code",
   "outputs": [],
   "execution_count": null,
   "source": "",
   "id": "2d7d00af4fb98042"
  }
 ],
 "metadata": {
  "kernelspec": {
   "display_name": "Python 3",
   "language": "python",
   "name": "python3"
  },
  "language_info": {
   "codemirror_mode": {
    "name": "ipython",
    "version": 2
   },
   "file_extension": ".py",
   "mimetype": "text/x-python",
   "name": "python",
   "nbconvert_exporter": "python",
   "pygments_lexer": "ipython2",
   "version": "2.7.6"
  }
 },
 "nbformat": 4,
 "nbformat_minor": 5
}
