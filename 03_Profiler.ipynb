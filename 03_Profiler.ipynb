{
 "cells": [
  {
   "cell_type": "code",
   "id": "initial_id",
   "metadata": {
    "collapsed": true,
    "ExecuteTime": {
     "end_time": "2025-09-15T04:59:06.030795Z",
     "start_time": "2025-09-15T04:59:06.014073Z"
    }
   },
   "source": [
    "import pandas as pd\n",
    "from ydata_profiling import ProfileReport"
   ],
   "outputs": [],
   "execution_count": 5
  },
  {
   "metadata": {
    "ExecuteTime": {
     "end_time": "2025-09-15T04:55:37.341744Z",
     "start_time": "2025-09-15T04:55:35.592407Z"
    }
   },
   "cell_type": "code",
   "source": [
    "original = pd.read_csv('Data/house_prices.csv')\n",
    "OHE_clean = pd.read_csv('CleanedData_OHE.csv')\n",
    "clean = pd.read_csv('CleanedData.csv')"
   ],
   "id": "4fb61285b8157e3e",
   "outputs": [],
   "execution_count": 2
  },
  {
   "metadata": {
    "ExecuteTime": {
     "end_time": "2025-09-15T04:59:29.357891Z",
     "start_time": "2025-09-15T04:59:09.517084Z"
    }
   },
   "cell_type": "code",
   "source": [
    "prof1 = ProfileReport(original)\n",
    "prof1.to_file(output_file='original_data_report.html')"
   ],
   "id": "f41e10305860324f",
   "outputs": [
    {
     "data": {
      "text/plain": [
       "Summarize dataset:   0%|          | 0/5 [00:00<?, ?it/s]"
      ],
      "application/vnd.jupyter.widget-view+json": {
       "version_major": 2,
       "version_minor": 0,
       "model_id": "6eafe0e1b28b4b1a8d7bcc0ee2345524"
      }
     },
     "metadata": {},
     "output_type": "display_data"
    },
    {
     "name": "stderr",
     "output_type": "stream",
     "text": [
      "\n",
      "  0%|          | 0/21 [00:00<?, ?it/s]\u001B[A\n",
      "  5%|▍         | 1/21 [00:02<00:41,  2.09s/it]\u001B[A\n",
      " 10%|▉         | 2/21 [00:03<00:37,  1.96s/it]\u001B[A\n",
      "100%|██████████| 21/21 [00:05<00:00,  3.71it/s][A\n"
     ]
    },
    {
     "data": {
      "text/plain": [
       "Generate report structure:   0%|          | 0/1 [00:00<?, ?it/s]"
      ],
      "application/vnd.jupyter.widget-view+json": {
       "version_major": 2,
       "version_minor": 0,
       "model_id": "d1827e9545eb458c8e24847244ecdb8b"
      }
     },
     "metadata": {},
     "output_type": "display_data"
    },
    {
     "data": {
      "text/plain": [
       "Render HTML:   0%|          | 0/1 [00:00<?, ?it/s]"
      ],
      "application/vnd.jupyter.widget-view+json": {
       "version_major": 2,
       "version_minor": 0,
       "model_id": "dd20a5a7c7e344e38b4df25bc52c730c"
      }
     },
     "metadata": {},
     "output_type": "display_data"
    },
    {
     "data": {
      "text/plain": [
       "Export report to file:   0%|          | 0/1 [00:00<?, ?it/s]"
      ],
      "application/vnd.jupyter.widget-view+json": {
       "version_major": 2,
       "version_minor": 0,
       "model_id": "e0135305fd5041bba3780bf5800c9224"
      }
     },
     "metadata": {},
     "output_type": "display_data"
    }
   ],
   "execution_count": 6
  },
  {
   "metadata": {
    "ExecuteTime": {
     "end_time": "2025-09-15T05:01:41.424793Z",
     "start_time": "2025-09-15T04:59:34.983550Z"
    }
   },
   "cell_type": "code",
   "source": [
    "prof2 = ProfileReport(OHE_clean)\n",
    "prof2.to_file(output_file='cleaned_data_OHE.html')"
   ],
   "id": "7b1171e918600d1a",
   "outputs": [
    {
     "data": {
      "text/plain": [
       "Summarize dataset:   0%|          | 0/5 [00:00<?, ?it/s]"
      ],
      "application/vnd.jupyter.widget-view+json": {
       "version_major": 2,
       "version_minor": 0,
       "model_id": "1a0b639ccb4f4bb8a36ef7a872271626"
      }
     },
     "metadata": {},
     "output_type": "display_data"
    },
    {
     "name": "stderr",
     "output_type": "stream",
     "text": [
      "\n",
      "  0%|          | 0/106 [00:00<?, ?it/s]\u001B[A\n",
      "  1%|          | 1/106 [00:01<00:53,  1.96it/s]\u001B[A\n",
      "  2%|▏         | 2/106 [00:01<00:53,  1.93it/s]\u001B[A\n",
      "  8%|▊         | 8/106 [00:02<00:24,  4.08it/s]\u001B[A\n",
      "  9%|▉         | 10/106 [00:03<00:27,  3.51it/s]\u001B[A\n",
      " 10%|█         | 11/106 [00:03<00:25,  3.76it/s]\u001B[A\n",
      " 12%|█▏        | 13/106 [00:03<00:25,  3.65it/s]\u001B[A\n",
      " 13%|█▎        | 14/106 [00:04<00:23,  3.89it/s]\u001B[A\n",
      " 14%|█▍        | 15/106 [00:04<00:21,  4.24it/s]\u001B[A\n",
      " 23%|██▎       | 24/106 [00:08<00:34,  2.38it/s]\u001B[A\n",
      " 24%|██▎       | 25/106 [00:08<00:31,  2.57it/s]\u001B[A\n",
      " 25%|██▍       | 26/106 [00:08<00:28,  2.84it/s]\u001B[A\n",
      " 35%|███▍      | 37/106 [00:09<00:10,  6.74it/s]\u001B[A\n",
      " 37%|███▋      | 39/106 [00:09<00:09,  7.40it/s]\u001B[A\n",
      "100%|██████████| 106/106 [00:10<00:00, 10.07it/s][A\n",
      "D:\\Environments\\tf_gpu\\lib\\site-packages\\ydata_profiling\\model\\pandas\\duplicates_pandas.py:37: PerformanceWarning: DataFrame is highly fragmented.  This is usually the result of calling `frame.insert` many times, which has poor performance.  Consider joining all columns at once using pd.concat(axis=1) instead. To get a de-fragmented frame, use `newframe = frame.copy()`\n",
      "  df[duplicated_rows]\n",
      "D:\\Environments\\tf_gpu\\lib\\site-packages\\ydata_profiling\\model\\pandas\\duplicates_pandas.py:37: PerformanceWarning: DataFrame is highly fragmented.  This is usually the result of calling `frame.insert` many times, which has poor performance.  Consider joining all columns at once using pd.concat(axis=1) instead. To get a de-fragmented frame, use `newframe = frame.copy()`\n",
      "  df[duplicated_rows]\n",
      "D:\\Environments\\tf_gpu\\lib\\site-packages\\ydata_profiling\\model\\pandas\\duplicates_pandas.py:37: PerformanceWarning: DataFrame is highly fragmented.  This is usually the result of calling `frame.insert` many times, which has poor performance.  Consider joining all columns at once using pd.concat(axis=1) instead. To get a de-fragmented frame, use `newframe = frame.copy()`\n",
      "  df[duplicated_rows]\n",
      "D:\\Environments\\tf_gpu\\lib\\site-packages\\ydata_profiling\\model\\pandas\\duplicates_pandas.py:37: PerformanceWarning: DataFrame is highly fragmented.  This is usually the result of calling `frame.insert` many times, which has poor performance.  Consider joining all columns at once using pd.concat(axis=1) instead. To get a de-fragmented frame, use `newframe = frame.copy()`\n",
      "  df[duplicated_rows]\n",
      "D:\\Environments\\tf_gpu\\lib\\site-packages\\ydata_profiling\\model\\pandas\\duplicates_pandas.py:37: PerformanceWarning: DataFrame is highly fragmented.  This is usually the result of calling `frame.insert` many times, which has poor performance.  Consider joining all columns at once using pd.concat(axis=1) instead. To get a de-fragmented frame, use `newframe = frame.copy()`\n",
      "  df[duplicated_rows]\n",
      "D:\\Environments\\tf_gpu\\lib\\site-packages\\ydata_profiling\\model\\pandas\\duplicates_pandas.py:37: PerformanceWarning: DataFrame is highly fragmented.  This is usually the result of calling `frame.insert` many times, which has poor performance.  Consider joining all columns at once using pd.concat(axis=1) instead. To get a de-fragmented frame, use `newframe = frame.copy()`\n",
      "  df[duplicated_rows]\n",
      "D:\\Environments\\tf_gpu\\lib\\site-packages\\ydata_profiling\\model\\pandas\\duplicates_pandas.py:37: PerformanceWarning: DataFrame is highly fragmented.  This is usually the result of calling `frame.insert` many times, which has poor performance.  Consider joining all columns at once using pd.concat(axis=1) instead. To get a de-fragmented frame, use `newframe = frame.copy()`\n",
      "  df[duplicated_rows]\n"
     ]
    },
    {
     "data": {
      "text/plain": [
       "Generate report structure:   0%|          | 0/1 [00:00<?, ?it/s]"
      ],
      "application/vnd.jupyter.widget-view+json": {
       "version_major": 2,
       "version_minor": 0,
       "model_id": "99bbaea872d24796b808899299544ae7"
      }
     },
     "metadata": {},
     "output_type": "display_data"
    },
    {
     "data": {
      "text/plain": [
       "Render HTML:   0%|          | 0/1 [00:00<?, ?it/s]"
      ],
      "application/vnd.jupyter.widget-view+json": {
       "version_major": 2,
       "version_minor": 0,
       "model_id": "d714a6919c854aec896f3f606249ff6d"
      }
     },
     "metadata": {},
     "output_type": "display_data"
    },
    {
     "data": {
      "text/plain": [
       "Export report to file:   0%|          | 0/1 [00:00<?, ?it/s]"
      ],
      "application/vnd.jupyter.widget-view+json": {
       "version_major": 2,
       "version_minor": 0,
       "model_id": "15ea3c0afcb94f82b7ac15a84cc4081e"
      }
     },
     "metadata": {},
     "output_type": "display_data"
    }
   ],
   "execution_count": 7
  },
  {
   "metadata": {
    "ExecuteTime": {
     "end_time": "2025-09-15T05:02:56.409246Z",
     "start_time": "2025-09-15T05:02:44.889198Z"
    }
   },
   "cell_type": "code",
   "source": [
    "prof3 = ProfileReport(clean)\n",
    "prof3.to_file(output_file='clean.html')"
   ],
   "id": "2d62607d22a5e8df",
   "outputs": [
    {
     "data": {
      "text/plain": [
       "Summarize dataset:   0%|          | 0/5 [00:00<?, ?it/s]"
      ],
      "application/vnd.jupyter.widget-view+json": {
       "version_major": 2,
       "version_minor": 0,
       "model_id": "037522488f894ae4ad77faece82f066b"
      }
     },
     "metadata": {},
     "output_type": "display_data"
    },
    {
     "name": "stderr",
     "output_type": "stream",
     "text": [
      "\n",
      "  0%|          | 0/11 [00:00<?, ?it/s]\u001B[A\n",
      "100%|██████████| 11/11 [00:00<00:00, 71.22it/s][A\n"
     ]
    },
    {
     "data": {
      "text/plain": [
       "Generate report structure:   0%|          | 0/1 [00:00<?, ?it/s]"
      ],
      "application/vnd.jupyter.widget-view+json": {
       "version_major": 2,
       "version_minor": 0,
       "model_id": "3815340fd78640ad96b8f11fd0b2cf94"
      }
     },
     "metadata": {},
     "output_type": "display_data"
    },
    {
     "data": {
      "text/plain": [
       "Render HTML:   0%|          | 0/1 [00:00<?, ?it/s]"
      ],
      "application/vnd.jupyter.widget-view+json": {
       "version_major": 2,
       "version_minor": 0,
       "model_id": "fe3de63a96a14c79a3705f646a93ba1d"
      }
     },
     "metadata": {},
     "output_type": "display_data"
    },
    {
     "data": {
      "text/plain": [
       "Export report to file:   0%|          | 0/1 [00:00<?, ?it/s]"
      ],
      "application/vnd.jupyter.widget-view+json": {
       "version_major": 2,
       "version_minor": 0,
       "model_id": "c50c59662f1641af9ee5fa75ab542f58"
      }
     },
     "metadata": {},
     "output_type": "display_data"
    }
   ],
   "execution_count": 8
  },
  {
   "metadata": {},
   "cell_type": "code",
   "outputs": [],
   "execution_count": null,
   "source": "",
   "id": "1c89132fe90f62cc"
  }
 ],
 "metadata": {
  "kernelspec": {
   "display_name": "Python 3",
   "language": "python",
   "name": "python3"
  },
  "language_info": {
   "codemirror_mode": {
    "name": "ipython",
    "version": 2
   },
   "file_extension": ".py",
   "mimetype": "text/x-python",
   "name": "python",
   "nbconvert_exporter": "python",
   "pygments_lexer": "ipython2",
   "version": "2.7.6"
  }
 },
 "nbformat": 4,
 "nbformat_minor": 5
}
